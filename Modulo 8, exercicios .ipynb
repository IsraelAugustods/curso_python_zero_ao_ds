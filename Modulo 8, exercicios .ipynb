{
 "cells": [
  {
   "cell_type": "markdown",
   "id": "6a317a0f",
   "metadata": {
    "heading_collapsed": true
   },
   "source": [
    "# Primeiro exercicio"
   ]
  },
  {
   "cell_type": "code",
   "execution_count": 2,
   "id": "80f40fec",
   "metadata": {
    "ExecuteTime": {
     "end_time": "2022-01-29T15:24:29.969873Z",
     "start_time": "2022-01-29T15:24:28.504504Z"
    },
    "hidden": true
   },
   "outputs": [],
   "source": [
    "import pandas as pd\n",
    "import numpy as np"
   ]
  },
  {
   "cell_type": "code",
   "execution_count": 3,
   "id": "26ee20ad",
   "metadata": {
    "ExecuteTime": {
     "end_time": "2022-01-29T15:24:30.063325Z",
     "start_time": "2022-01-29T15:24:29.971832Z"
    },
    "hidden": true
   },
   "outputs": [],
   "source": [
    "df = pd.read_csv (\"datasets/kc_house_data.csv\")\n",
    "pd.set_option('display.float_format',lambda x: '%.2f' % x)\n",
    "df['date'] = pd.to_datetime (df['date'])"
   ]
  },
  {
   "cell_type": "code",
   "execution_count": 4,
   "id": "e1711590",
   "metadata": {
    "ExecuteTime": {
     "end_time": "2022-01-29T15:24:30.078292Z",
     "start_time": "2022-01-29T15:24:30.064297Z"
    },
    "hidden": true
   },
   "outputs": [],
   "source": [
    "df1 = df[['price', 'zipcode']].groupby('zipcode').median().reset_index()"
   ]
  },
  {
   "cell_type": "code",
   "execution_count": 5,
   "id": "78fc6b59",
   "metadata": {
    "ExecuteTime": {
     "end_time": "2022-01-29T15:24:30.125439Z",
     "start_time": "2022-01-29T15:24:30.081291Z"
    },
    "hidden": true
   },
   "outputs": [],
   "source": [
    "df2 = pd.merge(df,df1, on='zipcode', how='inner')\n",
    "df2['status'] = 'NA'"
   ]
  },
  {
   "cell_type": "code",
   "execution_count": 6,
   "id": "882656dd",
   "metadata": {
    "ExecuteTime": {
     "end_time": "2022-01-29T15:24:30.141414Z",
     "start_time": "2022-01-29T15:24:30.127398Z"
    },
    "hidden": true
   },
   "outputs": [],
   "source": [
    "df3 = df2[['id', 'zipcode', 'price_y', 'price_x', 'condition', 'status']]"
   ]
  },
  {
   "cell_type": "code",
   "execution_count": 14,
   "id": "bb61e057",
   "metadata": {
    "ExecuteTime": {
     "end_time": "2022-01-29T15:31:10.151268Z",
     "start_time": "2022-01-29T15:30:58.432166Z"
    },
    "hidden": true
   },
   "outputs": [],
   "source": [
    "for i in range (len(df3)):\n",
    "    if (df3.loc[i,'price_x'] <  df3.loc[i,'price_y']) & (df3.loc[i,'condition'] >= 3):\n",
    "        df3.loc[i,'status'] = 'comprar'\n",
    "    \n",
    "    else:\n",
    "        df3.loc[i,'status'] = 'não comprar'"
   ]
  },
  {
   "cell_type": "code",
   "execution_count": 15,
   "id": "45f3d4f4",
   "metadata": {
    "ExecuteTime": {
     "end_time": "2022-01-29T15:31:18.266621Z",
     "start_time": "2022-01-29T15:31:18.247619Z"
    },
    "hidden": true
   },
   "outputs": [
    {
     "name": "stderr",
     "output_type": "stream",
     "text": [
      "C:\\Users\\Israel\\anaconda3\\lib\\site-packages\\pandas\\core\\frame.py:5039: SettingWithCopyWarning: \n",
      "A value is trying to be set on a copy of a slice from a DataFrame\n",
      "\n",
      "See the caveats in the documentation: https://pandas.pydata.org/pandas-docs/stable/user_guide/indexing.html#returning-a-view-versus-a-copy\n",
      "  return super().rename(\n"
     ]
    }
   ],
   "source": [
    "df3.rename(columns={'id':'ID', 'zipcode':'ZIPCODE', 'price_y': 'MEDIA DE PREÇO', 'price_x': 'PREÇO', \n",
    "                    'condition': 'CONDIÇÃO', 'status':'STATUS'}, inplace=True)"
   ]
  },
  {
   "cell_type": "code",
   "execution_count": 16,
   "id": "b5d48b09",
   "metadata": {
    "ExecuteTime": {
     "end_time": "2022-01-29T15:31:25.025592Z",
     "start_time": "2022-01-29T15:31:24.999608Z"
    },
    "hidden": true
   },
   "outputs": [
    {
     "data": {
      "text/html": [
       "<div>\n",
       "<style scoped>\n",
       "    .dataframe tbody tr th:only-of-type {\n",
       "        vertical-align: middle;\n",
       "    }\n",
       "\n",
       "    .dataframe tbody tr th {\n",
       "        vertical-align: top;\n",
       "    }\n",
       "\n",
       "    .dataframe thead th {\n",
       "        text-align: right;\n",
       "    }\n",
       "</style>\n",
       "<table border=\"1\" class=\"dataframe\">\n",
       "  <thead>\n",
       "    <tr style=\"text-align: right;\">\n",
       "      <th></th>\n",
       "      <th>ID</th>\n",
       "      <th>ZIPCODE</th>\n",
       "      <th>MEDIA DE PREÇO</th>\n",
       "      <th>PREÇO</th>\n",
       "      <th>CONDIÇÃO</th>\n",
       "      <th>STATUS</th>\n",
       "      <th>5</th>\n",
       "    </tr>\n",
       "  </thead>\n",
       "  <tbody>\n",
       "    <tr>\n",
       "      <th>0</th>\n",
       "      <td>7129300520</td>\n",
       "      <td>98178</td>\n",
       "      <td>278277.00</td>\n",
       "      <td>221900.00</td>\n",
       "      <td>3</td>\n",
       "      <td>comprar</td>\n",
       "      <td>comprar</td>\n",
       "    </tr>\n",
       "    <tr>\n",
       "      <th>1</th>\n",
       "      <td>4060000240</td>\n",
       "      <td>98178</td>\n",
       "      <td>278277.00</td>\n",
       "      <td>205425.00</td>\n",
       "      <td>4</td>\n",
       "      <td>comprar</td>\n",
       "      <td>comprar</td>\n",
       "    </tr>\n",
       "    <tr>\n",
       "      <th>2</th>\n",
       "      <td>4058801670</td>\n",
       "      <td>98178</td>\n",
       "      <td>278277.00</td>\n",
       "      <td>445000.00</td>\n",
       "      <td>3</td>\n",
       "      <td>não comprar</td>\n",
       "      <td>não comprar</td>\n",
       "    </tr>\n",
       "    <tr>\n",
       "      <th>3</th>\n",
       "      <td>2976800796</td>\n",
       "      <td>98178</td>\n",
       "      <td>278277.00</td>\n",
       "      <td>236000.00</td>\n",
       "      <td>3</td>\n",
       "      <td>comprar</td>\n",
       "      <td>comprar</td>\n",
       "    </tr>\n",
       "    <tr>\n",
       "      <th>4</th>\n",
       "      <td>6874200960</td>\n",
       "      <td>98178</td>\n",
       "      <td>278277.00</td>\n",
       "      <td>170000.00</td>\n",
       "      <td>3</td>\n",
       "      <td>comprar</td>\n",
       "      <td>comprar</td>\n",
       "    </tr>\n",
       "    <tr>\n",
       "      <th>...</th>\n",
       "      <td>...</td>\n",
       "      <td>...</td>\n",
       "      <td>...</td>\n",
       "      <td>...</td>\n",
       "      <td>...</td>\n",
       "      <td>...</td>\n",
       "      <td>...</td>\n",
       "    </tr>\n",
       "    <tr>\n",
       "      <th>21608</th>\n",
       "      <td>2525049086</td>\n",
       "      <td>98039</td>\n",
       "      <td>1892500.00</td>\n",
       "      <td>2720000.00</td>\n",
       "      <td>4</td>\n",
       "      <td>não comprar</td>\n",
       "      <td>não comprar</td>\n",
       "    </tr>\n",
       "    <tr>\n",
       "      <th>21609</th>\n",
       "      <td>2525049113</td>\n",
       "      <td>98039</td>\n",
       "      <td>1892500.00</td>\n",
       "      <td>1950000.00</td>\n",
       "      <td>4</td>\n",
       "      <td>não comprar</td>\n",
       "      <td>não comprar</td>\n",
       "    </tr>\n",
       "    <tr>\n",
       "      <th>21610</th>\n",
       "      <td>3262300485</td>\n",
       "      <td>98039</td>\n",
       "      <td>1892500.00</td>\n",
       "      <td>2250000.00</td>\n",
       "      <td>3</td>\n",
       "      <td>não comprar</td>\n",
       "      <td>não comprar</td>\n",
       "    </tr>\n",
       "    <tr>\n",
       "      <th>21611</th>\n",
       "      <td>6447300365</td>\n",
       "      <td>98039</td>\n",
       "      <td>1892500.00</td>\n",
       "      <td>2900000.00</td>\n",
       "      <td>3</td>\n",
       "      <td>não comprar</td>\n",
       "      <td>não comprar</td>\n",
       "    </tr>\n",
       "    <tr>\n",
       "      <th>21612</th>\n",
       "      <td>3262300818</td>\n",
       "      <td>98039</td>\n",
       "      <td>1892500.00</td>\n",
       "      <td>1865000.00</td>\n",
       "      <td>3</td>\n",
       "      <td>comprar</td>\n",
       "      <td>comprar</td>\n",
       "    </tr>\n",
       "  </tbody>\n",
       "</table>\n",
       "<p>21613 rows × 7 columns</p>\n",
       "</div>"
      ],
      "text/plain": [
       "               ID  ZIPCODE  MEDIA DE PREÇO      PREÇO  CONDIÇÃO       STATUS  \\\n",
       "0      7129300520    98178       278277.00  221900.00         3      comprar   \n",
       "1      4060000240    98178       278277.00  205425.00         4      comprar   \n",
       "2      4058801670    98178       278277.00  445000.00         3  não comprar   \n",
       "3      2976800796    98178       278277.00  236000.00         3      comprar   \n",
       "4      6874200960    98178       278277.00  170000.00         3      comprar   \n",
       "...           ...      ...             ...        ...       ...          ...   \n",
       "21608  2525049086    98039      1892500.00 2720000.00         4  não comprar   \n",
       "21609  2525049113    98039      1892500.00 1950000.00         4  não comprar   \n",
       "21610  3262300485    98039      1892500.00 2250000.00         3  não comprar   \n",
       "21611  6447300365    98039      1892500.00 2900000.00         3  não comprar   \n",
       "21612  3262300818    98039      1892500.00 1865000.00         3      comprar   \n",
       "\n",
       "                 5  \n",
       "0          comprar  \n",
       "1          comprar  \n",
       "2      não comprar  \n",
       "3          comprar  \n",
       "4          comprar  \n",
       "...            ...  \n",
       "21608  não comprar  \n",
       "21609  não comprar  \n",
       "21610  não comprar  \n",
       "21611  não comprar  \n",
       "21612      comprar  \n",
       "\n",
       "[21613 rows x 7 columns]"
      ]
     },
     "execution_count": 16,
     "metadata": {},
     "output_type": "execute_result"
    }
   ],
   "source": [
    "df3"
   ]
  },
  {
   "cell_type": "code",
   "execution_count": null,
   "id": "b9ab9fbc",
   "metadata": {
    "hidden": true
   },
   "outputs": [],
   "source": []
  },
  {
   "cell_type": "code",
   "execution_count": null,
   "id": "1ab3c73a",
   "metadata": {
    "hidden": true
   },
   "outputs": [],
   "source": []
  },
  {
   "cell_type": "markdown",
   "id": "0d8b4f7e",
   "metadata": {
    "heading_collapsed": true
   },
   "source": [
    "# Segundo Exercicio "
   ]
  },
  {
   "cell_type": "code",
   "execution_count": null,
   "id": "1cfb83d3",
   "metadata": {
    "hidden": true
   },
   "outputs": [],
   "source": [
    "#H1: Imóveis que possuem vista pra agua, são 20% mais caros em media."
   ]
  },
  {
   "cell_type": "code",
   "execution_count": 2,
   "id": "c8a9cd83",
   "metadata": {
    "ExecuteTime": {
     "end_time": "2022-01-22T22:29:24.076072Z",
     "start_time": "2022-01-22T22:29:22.899348Z"
    },
    "hidden": true
   },
   "outputs": [],
   "source": [
    "import pandas as pd\n",
    "import numpy as np"
   ]
  },
  {
   "cell_type": "code",
   "execution_count": 7,
   "id": "4fe9f135",
   "metadata": {
    "ExecuteTime": {
     "end_time": "2022-01-22T22:32:58.082761Z",
     "start_time": "2022-01-22T22:32:58.010801Z"
    },
    "hidden": true
   },
   "outputs": [],
   "source": [
    "df = pd.read_csv('datasets/kc_house_data.csv')\n",
    "pd.set_option('display.float_format',lambda x: '%.2f' % x)"
   ]
  },
  {
   "cell_type": "code",
   "execution_count": 196,
   "id": "e449cafd",
   "metadata": {
    "ExecuteTime": {
     "end_time": "2022-01-26T14:48:43.948230Z",
     "start_time": "2022-01-26T14:48:43.937223Z"
    },
    "hidden": true
   },
   "outputs": [],
   "source": [
    "df4 = df[['price', 'waterfront']].groupby('waterfront').mean().reset_index()"
   ]
  },
  {
   "cell_type": "code",
   "execution_count": 197,
   "id": "d386c7ae",
   "metadata": {
    "ExecuteTime": {
     "end_time": "2022-01-26T14:48:44.156287Z",
     "start_time": "2022-01-26T14:48:44.145308Z"
    },
    "hidden": true
   },
   "outputs": [],
   "source": [
    "media_comwt = 1661876.02\n",
    "media_semwt = 531563.60\n",
    "\n",
    "df4['comparacao_medias'] = ((media_comwt - media_semwt ) / media_semwt) * 100"
   ]
  },
  {
   "cell_type": "code",
   "execution_count": 199,
   "id": "e5b3a4aa",
   "metadata": {
    "ExecuteTime": {
     "end_time": "2022-01-26T14:51:41.910595Z",
     "start_time": "2022-01-26T14:51:41.905599Z"
    },
    "hidden": true
   },
   "outputs": [],
   "source": [
    "df4.rename(columns = {'waterfront': 'WATER FRONT', 'price': 'MEAN OF PRICE', \n",
    "           'comparacao_medias': 'COMPARAÇÃO DAS MEDIAS DE PREÇO'}, inplace = True)"
   ]
  },
  {
   "cell_type": "code",
   "execution_count": 200,
   "id": "2fe0bde4",
   "metadata": {
    "ExecuteTime": {
     "end_time": "2022-01-26T14:51:51.347121Z",
     "start_time": "2022-01-26T14:51:51.337131Z"
    },
    "hidden": true
   },
   "outputs": [
    {
     "data": {
      "text/html": [
       "<div>\n",
       "<style scoped>\n",
       "    .dataframe tbody tr th:only-of-type {\n",
       "        vertical-align: middle;\n",
       "    }\n",
       "\n",
       "    .dataframe tbody tr th {\n",
       "        vertical-align: top;\n",
       "    }\n",
       "\n",
       "    .dataframe thead th {\n",
       "        text-align: right;\n",
       "    }\n",
       "</style>\n",
       "<table border=\"1\" class=\"dataframe\">\n",
       "  <thead>\n",
       "    <tr style=\"text-align: right;\">\n",
       "      <th></th>\n",
       "      <th>WATER FRONT</th>\n",
       "      <th>MEAN OF PRICE</th>\n",
       "      <th>COMPARAÇÃO DAS MEDIAS DE PREÇO</th>\n",
       "    </tr>\n",
       "  </thead>\n",
       "  <tbody>\n",
       "    <tr>\n",
       "      <th>0</th>\n",
       "      <td>0</td>\n",
       "      <td>531563.60</td>\n",
       "      <td>212.64</td>\n",
       "    </tr>\n",
       "    <tr>\n",
       "      <th>1</th>\n",
       "      <td>1</td>\n",
       "      <td>1661876.02</td>\n",
       "      <td>212.64</td>\n",
       "    </tr>\n",
       "  </tbody>\n",
       "</table>\n",
       "</div>"
      ],
      "text/plain": [
       "   WATER FRONT  MEAN OF PRICE  COMPARAÇÃO DAS MEDIAS DE PREÇO\n",
       "0            0      531563.60                          212.64\n",
       "1            1     1661876.02                          212.64"
      ]
     },
     "execution_count": 200,
     "metadata": {},
     "output_type": "execute_result"
    }
   ],
   "source": [
    "df4"
   ]
  },
  {
   "cell_type": "code",
   "execution_count": 16,
   "id": "b746a1d9",
   "metadata": {
    "ExecuteTime": {
     "end_time": "2022-01-22T22:50:25.380077Z",
     "start_time": "2022-01-22T22:50:25.364103Z"
    },
    "hidden": true
   },
   "outputs": [],
   "source": [
    "# H1 é falsa, os imoveis com vista pra agua, são em media 212% mais caros "
   ]
  },
  {
   "cell_type": "markdown",
   "id": "190731a5",
   "metadata": {
    "heading_collapsed": true
   },
   "source": [
    "# Hipotese 2 "
   ]
  },
  {
   "cell_type": "code",
   "execution_count": null,
   "id": "9f0f2397",
   "metadata": {
    "hidden": true
   },
   "outputs": [],
   "source": [
    "#H2: Imóveis com data de construção menor que 1955, são 50% mais baratos na media."
   ]
  },
  {
   "cell_type": "code",
   "execution_count": 2,
   "id": "7fef9a2d",
   "metadata": {
    "ExecuteTime": {
     "end_time": "2022-01-27T13:34:45.162371Z",
     "start_time": "2022-01-27T13:34:43.803454Z"
    },
    "hidden": true
   },
   "outputs": [],
   "source": [
    "import pandas as pd\n",
    "import numpy as np"
   ]
  },
  {
   "cell_type": "code",
   "execution_count": 3,
   "id": "6ac4ecbf",
   "metadata": {
    "ExecuteTime": {
     "end_time": "2022-01-27T13:34:45.241935Z",
     "start_time": "2022-01-27T13:34:45.164329Z"
    },
    "hidden": true
   },
   "outputs": [],
   "source": [
    "df = pd.read_csv('datasets/kc_house_data.csv')\n",
    "pd.set_option('display.float_format',lambda x: '%.2f' % x)\n"
   ]
  },
  {
   "cell_type": "code",
   "execution_count": 4,
   "id": "b9104d8d",
   "metadata": {
    "ExecuteTime": {
     "end_time": "2022-01-27T13:34:45.257929Z",
     "start_time": "2022-01-27T13:34:45.242924Z"
    },
    "hidden": true
   },
   "outputs": [],
   "source": [
    "df['yr_1955'] = df['yr_built'] < 1955"
   ]
  },
  {
   "cell_type": "code",
   "execution_count": 5,
   "id": "046a73ba",
   "metadata": {
    "ExecuteTime": {
     "end_time": "2022-01-27T13:34:45.273590Z",
     "start_time": "2022-01-27T13:34:45.259914Z"
    },
    "hidden": true
   },
   "outputs": [],
   "source": [
    "df5 = df[['price', 'yr_1955']].groupby('yr_1955').mean().reset_index()"
   ]
  },
  {
   "cell_type": "code",
   "execution_count": 6,
   "id": "2a03914d",
   "metadata": {
    "ExecuteTime": {
     "end_time": "2022-01-27T13:34:45.289586Z",
     "start_time": "2022-01-27T13:34:45.275575Z"
    },
    "hidden": true
   },
   "outputs": [],
   "source": [
    "media_maior1955 = 541299.97\n",
    "media_menor1955 = 537050.91\n",
    "\n",
    "df5 ['compa_media'] = (((media_maior1955 - media_menor1955 ) / media_menor1955 )) * 100"
   ]
  },
  {
   "cell_type": "code",
   "execution_count": 7,
   "id": "2d044895",
   "metadata": {
    "ExecuteTime": {
     "end_time": "2022-01-27T13:34:45.305505Z",
     "start_time": "2022-01-27T13:34:45.291571Z"
    },
    "hidden": true
   },
   "outputs": [],
   "source": [
    "df5.rename (columns = {'yr_1955': 'RENOVAÇÃO ANTES DE 1955?', 'price': 'MEDIA DE PREÇO', \n",
    "                       'compa_media': 'COMPARAÇÃO DAS MEDIAS'}, inplace = True )"
   ]
  },
  {
   "cell_type": "code",
   "execution_count": 8,
   "id": "f5648d5c",
   "metadata": {
    "ExecuteTime": {
     "end_time": "2022-01-27T13:34:48.769771Z",
     "start_time": "2022-01-27T13:34:48.738803Z"
    },
    "hidden": true
   },
   "outputs": [
    {
     "data": {
      "text/html": [
       "<div>\n",
       "<style scoped>\n",
       "    .dataframe tbody tr th:only-of-type {\n",
       "        vertical-align: middle;\n",
       "    }\n",
       "\n",
       "    .dataframe tbody tr th {\n",
       "        vertical-align: top;\n",
       "    }\n",
       "\n",
       "    .dataframe thead th {\n",
       "        text-align: right;\n",
       "    }\n",
       "</style>\n",
       "<table border=\"1\" class=\"dataframe\">\n",
       "  <thead>\n",
       "    <tr style=\"text-align: right;\">\n",
       "      <th></th>\n",
       "      <th>RENOVAÇÃO ANTES DE 1955?</th>\n",
       "      <th>MEDIA DE PREÇO</th>\n",
       "      <th>COMPARAÇÃO DAS MEDIAS</th>\n",
       "    </tr>\n",
       "  </thead>\n",
       "  <tbody>\n",
       "    <tr>\n",
       "      <th>0</th>\n",
       "      <td>False</td>\n",
       "      <td>541299.97</td>\n",
       "      <td>0.79</td>\n",
       "    </tr>\n",
       "    <tr>\n",
       "      <th>1</th>\n",
       "      <td>True</td>\n",
       "      <td>537050.91</td>\n",
       "      <td>0.79</td>\n",
       "    </tr>\n",
       "  </tbody>\n",
       "</table>\n",
       "</div>"
      ],
      "text/plain": [
       "   RENOVAÇÃO ANTES DE 1955?  MEDIA DE PREÇO  COMPARAÇÃO DAS MEDIAS\n",
       "0                     False       541299.97                   0.79\n",
       "1                      True       537050.91                   0.79"
      ]
     },
     "execution_count": 8,
     "metadata": {},
     "output_type": "execute_result"
    }
   ],
   "source": [
    "df5"
   ]
  },
  {
   "cell_type": "code",
   "execution_count": null,
   "id": "9a64fab0",
   "metadata": {
    "hidden": true
   },
   "outputs": [],
   "source": [
    "#H2 é falsa por que imoveis < 1955 são somente 0,8% mais baratos do que os imoveis  > 1955"
   ]
  },
  {
   "cell_type": "markdown",
   "id": "74d97f96",
   "metadata": {
    "heading_collapsed": true
   },
   "source": [
    "# Hipotese 3"
   ]
  },
  {
   "cell_type": "code",
   "execution_count": null,
   "id": "5408cc75",
   "metadata": {
    "hidden": true
   },
   "outputs": [],
   "source": [
    "#Imóveis sem porão possuem 40% a mais de terreno do que os imoveis com porão."
   ]
  },
  {
   "cell_type": "code",
   "execution_count": 215,
   "id": "b3348cc3",
   "metadata": {
    "ExecuteTime": {
     "end_time": "2022-01-26T15:05:19.058174Z",
     "start_time": "2022-01-26T15:05:19.048181Z"
    },
    "hidden": true
   },
   "outputs": [],
   "source": [
    "import pandas as pd\n",
    "import numpy as np "
   ]
  },
  {
   "cell_type": "code",
   "execution_count": 216,
   "id": "ba353b78",
   "metadata": {
    "ExecuteTime": {
     "end_time": "2022-01-26T15:05:19.273964Z",
     "start_time": "2022-01-26T15:05:19.209140Z"
    },
    "hidden": true
   },
   "outputs": [],
   "source": [
    "df = pd.read_csv ('datasets/kc_house_data.csv')\n",
    "pd.set_option('display.float_format',lambda x: '%.0f' % x)\n"
   ]
  },
  {
   "cell_type": "code",
   "execution_count": 230,
   "id": "b318236a",
   "metadata": {
    "ExecuteTime": {
     "end_time": "2022-01-26T15:08:54.227941Z",
     "start_time": "2022-01-26T15:08:54.208956Z"
    },
    "hidden": true
   },
   "outputs": [],
   "source": [
    "df['basement0'] = df['sqft_basement'] == 0"
   ]
  },
  {
   "cell_type": "code",
   "execution_count": 231,
   "id": "9c2264be",
   "metadata": {
    "ExecuteTime": {
     "end_time": "2022-01-26T15:08:54.385063Z",
     "start_time": "2022-01-26T15:08:54.369068Z"
    },
    "hidden": true
   },
   "outputs": [],
   "source": [
    "df8 = df[['sqft_lot', 'basement0']].groupby('basement0').mean().reset_index()"
   ]
  },
  {
   "cell_type": "code",
   "execution_count": 232,
   "id": "470ed141",
   "metadata": {
    "ExecuteTime": {
     "end_time": "2022-01-26T15:08:54.540684Z",
     "start_time": "2022-01-26T15:08:54.528678Z"
    },
    "hidden": true
   },
   "outputs": [],
   "source": [
    "#True = sem porão\n",
    "#False = com porão "
   ]
  },
  {
   "cell_type": "code",
   "execution_count": 233,
   "id": "2486689d",
   "metadata": {
    "ExecuteTime": {
     "end_time": "2022-01-26T15:08:54.668250Z",
     "start_time": "2022-01-26T15:08:54.658255Z"
    },
    "hidden": true
   },
   "outputs": [],
   "source": [
    "media_sem_porao = 16284.18\n",
    "media_com_porao = 13286.29"
   ]
  },
  {
   "cell_type": "code",
   "execution_count": 234,
   "id": "0a7e28d5",
   "metadata": {
    "ExecuteTime": {
     "end_time": "2022-01-26T15:08:54.808686Z",
     "start_time": "2022-01-26T15:08:54.793681Z"
    },
    "hidden": true
   },
   "outputs": [],
   "source": [
    "primeira_operação = (media_sem_porao - media_com_porao) / media_com_porao\n",
    "df8['comparcao_medias'] = (primeira_operação * 100)"
   ]
  },
  {
   "cell_type": "code",
   "execution_count": 235,
   "id": "0f74d154",
   "metadata": {
    "ExecuteTime": {
     "end_time": "2022-01-26T15:08:54.934070Z",
     "start_time": "2022-01-26T15:08:54.929087Z"
    },
    "hidden": true
   },
   "outputs": [],
   "source": [
    "df8['comparcao_medias'] = (primeira_operação * 100)"
   ]
  },
  {
   "cell_type": "code",
   "execution_count": 236,
   "id": "c3040df0",
   "metadata": {
    "ExecuteTime": {
     "end_time": "2022-01-26T15:08:55.107417Z",
     "start_time": "2022-01-26T15:08:55.097409Z"
    },
    "hidden": true
   },
   "outputs": [],
   "source": [
    "df8.rename (columns = {'basement0': 'NÃO TEM PORÃO?', 'sqft_lot': 'MEDIA DE TAMANHO DOS TERRENOS',\n",
    "                       'comparcao_medias': 'COMPARAÇÃO DAS MEDIAS'}, inplace=True)"
   ]
  },
  {
   "cell_type": "code",
   "execution_count": 237,
   "id": "b24389aa",
   "metadata": {
    "ExecuteTime": {
     "end_time": "2022-01-26T15:08:56.002680Z",
     "start_time": "2022-01-26T15:08:55.984689Z"
    },
    "hidden": true
   },
   "outputs": [
    {
     "data": {
      "text/html": [
       "<div>\n",
       "<style scoped>\n",
       "    .dataframe tbody tr th:only-of-type {\n",
       "        vertical-align: middle;\n",
       "    }\n",
       "\n",
       "    .dataframe tbody tr th {\n",
       "        vertical-align: top;\n",
       "    }\n",
       "\n",
       "    .dataframe thead th {\n",
       "        text-align: right;\n",
       "    }\n",
       "</style>\n",
       "<table border=\"1\" class=\"dataframe\">\n",
       "  <thead>\n",
       "    <tr style=\"text-align: right;\">\n",
       "      <th></th>\n",
       "      <th>NÃO TEM PORÃO?</th>\n",
       "      <th>MEDIA DE TAMANHO DOS TERRENOS</th>\n",
       "      <th>COMPARAÇÃO DAS MEDIAS</th>\n",
       "    </tr>\n",
       "  </thead>\n",
       "  <tbody>\n",
       "    <tr>\n",
       "      <th>0</th>\n",
       "      <td>False</td>\n",
       "      <td>13286</td>\n",
       "      <td>23</td>\n",
       "    </tr>\n",
       "    <tr>\n",
       "      <th>1</th>\n",
       "      <td>True</td>\n",
       "      <td>16284</td>\n",
       "      <td>23</td>\n",
       "    </tr>\n",
       "  </tbody>\n",
       "</table>\n",
       "</div>"
      ],
      "text/plain": [
       "   NÃO TEM PORÃO?  MEDIA DE TAMANHO DOS TERRENOS  COMPARAÇÃO DAS MEDIAS\n",
       "0           False                          13286                     23\n",
       "1            True                          16284                     23"
      ]
     },
     "execution_count": 237,
     "metadata": {},
     "output_type": "execute_result"
    }
   ],
   "source": [
    "df8"
   ]
  },
  {
   "cell_type": "code",
   "execution_count": null,
   "id": "a3e8cad7",
   "metadata": {
    "hidden": true
   },
   "outputs": [],
   "source": [
    "#H3 incorreta, na real os imoveis sem porão possuem 22% a mais de terreno do que os com porão "
   ]
  },
  {
   "cell_type": "markdown",
   "id": "7c7ccad5",
   "metadata": {
    "heading_collapsed": true
   },
   "source": [
    "# Hipotse 4"
   ]
  },
  {
   "cell_type": "code",
   "execution_count": null,
   "id": "eedf22b9",
   "metadata": {
    "hidden": true
   },
   "outputs": [],
   "source": [
    "#O crescimento de preço dos imoveis Year over Year, é de 10%"
   ]
  },
  {
   "cell_type": "code",
   "execution_count": 10,
   "id": "fc31ac8c",
   "metadata": {
    "ExecuteTime": {
     "end_time": "2022-01-27T13:36:13.658731Z",
     "start_time": "2022-01-27T13:36:13.650737Z"
    },
    "hidden": true
   },
   "outputs": [],
   "source": [
    "import pandas as pd\n",
    "import numpy as np "
   ]
  },
  {
   "cell_type": "code",
   "execution_count": 11,
   "id": "86ff0242",
   "metadata": {
    "ExecuteTime": {
     "end_time": "2022-01-27T13:36:13.816410Z",
     "start_time": "2022-01-27T13:36:13.802404Z"
    },
    "hidden": true
   },
   "outputs": [],
   "source": [
    "pd.set_option('display.float_format',lambda x: '%.2f' % x)"
   ]
  },
  {
   "cell_type": "code",
   "execution_count": 12,
   "id": "50186bb6",
   "metadata": {
    "ExecuteTime": {
     "end_time": "2022-01-27T13:36:14.180015Z",
     "start_time": "2022-01-27T13:36:13.953875Z"
    },
    "hidden": true
   },
   "outputs": [],
   "source": [
    "df = pd.read_csv('datasets/kc_house_data.csv')\n",
    "df['year'] = pd.to_datetime(df['date']).dt.strftime('%Y')\n",
    "df['date'] = pd.to_datetime(df['date'])"
   ]
  },
  {
   "cell_type": "code",
   "execution_count": 13,
   "id": "aec54b1a",
   "metadata": {
    "ExecuteTime": {
     "end_time": "2022-01-27T13:36:14.195965Z",
     "start_time": "2022-01-27T13:36:14.181973Z"
    },
    "hidden": true,
    "scrolled": true
   },
   "outputs": [],
   "source": [
    "df1 = df[['price', 'year']].groupby(['year']).mean().reset_index()"
   ]
  },
  {
   "cell_type": "code",
   "execution_count": 14,
   "id": "2967c279",
   "metadata": {
    "ExecuteTime": {
     "end_time": "2022-01-27T13:36:14.259585Z",
     "start_time": "2022-01-27T13:36:14.250591Z"
    },
    "hidden": true
   },
   "outputs": [],
   "source": [
    "media_2014 = 539181\n",
    "media_2015 = 541989\n",
    "\n",
    "primera_operacao = (media_2015 - media_2014 ) / media_2014\n",
    "\n",
    "df1['comparacao_medias'] = primera_operacao * 100"
   ]
  },
  {
   "cell_type": "code",
   "execution_count": 15,
   "id": "4dace640",
   "metadata": {
    "ExecuteTime": {
     "end_time": "2022-01-27T13:36:14.430466Z",
     "start_time": "2022-01-27T13:36:14.420458Z"
    },
    "hidden": true
   },
   "outputs": [
    {
     "data": {
      "text/html": [
       "<div>\n",
       "<style scoped>\n",
       "    .dataframe tbody tr th:only-of-type {\n",
       "        vertical-align: middle;\n",
       "    }\n",
       "\n",
       "    .dataframe tbody tr th {\n",
       "        vertical-align: top;\n",
       "    }\n",
       "\n",
       "    .dataframe thead th {\n",
       "        text-align: right;\n",
       "    }\n",
       "</style>\n",
       "<table border=\"1\" class=\"dataframe\">\n",
       "  <thead>\n",
       "    <tr style=\"text-align: right;\">\n",
       "      <th></th>\n",
       "      <th>year</th>\n",
       "      <th>price</th>\n",
       "      <th>comparacao_medias</th>\n",
       "    </tr>\n",
       "  </thead>\n",
       "  <tbody>\n",
       "    <tr>\n",
       "      <th>0</th>\n",
       "      <td>2014</td>\n",
       "      <td>539181.43</td>\n",
       "      <td>0.52</td>\n",
       "    </tr>\n",
       "    <tr>\n",
       "      <th>1</th>\n",
       "      <td>2015</td>\n",
       "      <td>541988.99</td>\n",
       "      <td>0.52</td>\n",
       "    </tr>\n",
       "  </tbody>\n",
       "</table>\n",
       "</div>"
      ],
      "text/plain": [
       "   year     price  comparacao_medias\n",
       "0  2014 539181.43               0.52\n",
       "1  2015 541988.99               0.52"
      ]
     },
     "execution_count": 15,
     "metadata": {},
     "output_type": "execute_result"
    }
   ],
   "source": [
    "df1"
   ]
  },
  {
   "cell_type": "code",
   "execution_count": 16,
   "id": "7ca6ff9f",
   "metadata": {
    "ExecuteTime": {
     "end_time": "2022-01-27T13:36:14.509520Z",
     "start_time": "2022-01-27T13:36:14.499533Z"
    },
    "hidden": true
   },
   "outputs": [],
   "source": [
    "df1.rename(columns = {'year': 'ANO', 'price': 'MEDIAS DE PREÇO', 'comparacao_medias': 'COMPARAÇÃO DAS MEDIAS'}, inplace=True)"
   ]
  },
  {
   "cell_type": "code",
   "execution_count": 17,
   "id": "feab99db",
   "metadata": {
    "ExecuteTime": {
     "end_time": "2022-01-27T13:36:14.618487Z",
     "start_time": "2022-01-27T13:36:14.611491Z"
    },
    "hidden": true
   },
   "outputs": [
    {
     "data": {
      "text/html": [
       "<div>\n",
       "<style scoped>\n",
       "    .dataframe tbody tr th:only-of-type {\n",
       "        vertical-align: middle;\n",
       "    }\n",
       "\n",
       "    .dataframe tbody tr th {\n",
       "        vertical-align: top;\n",
       "    }\n",
       "\n",
       "    .dataframe thead th {\n",
       "        text-align: right;\n",
       "    }\n",
       "</style>\n",
       "<table border=\"1\" class=\"dataframe\">\n",
       "  <thead>\n",
       "    <tr style=\"text-align: right;\">\n",
       "      <th></th>\n",
       "      <th>ANO</th>\n",
       "      <th>MEDIAS DE PREÇO</th>\n",
       "      <th>COMPARAÇÃO DAS MEDIAS</th>\n",
       "    </tr>\n",
       "  </thead>\n",
       "  <tbody>\n",
       "    <tr>\n",
       "      <th>0</th>\n",
       "      <td>2014</td>\n",
       "      <td>539181.43</td>\n",
       "      <td>0.52</td>\n",
       "    </tr>\n",
       "    <tr>\n",
       "      <th>1</th>\n",
       "      <td>2015</td>\n",
       "      <td>541988.99</td>\n",
       "      <td>0.52</td>\n",
       "    </tr>\n",
       "  </tbody>\n",
       "</table>\n",
       "</div>"
      ],
      "text/plain": [
       "    ANO  MEDIAS DE PREÇO  COMPARAÇÃO DAS MEDIAS\n",
       "0  2014        539181.43                   0.52\n",
       "1  2015        541988.99                   0.52"
      ]
     },
     "execution_count": 17,
     "metadata": {},
     "output_type": "execute_result"
    }
   ],
   "source": [
    "df1"
   ]
  },
  {
   "cell_type": "code",
   "execution_count": 18,
   "id": "318d68c7",
   "metadata": {
    "ExecuteTime": {
     "end_time": "2022-01-27T13:36:14.789813Z",
     "start_time": "2022-01-27T13:36:14.778806Z"
    },
    "hidden": true
   },
   "outputs": [],
   "source": [
    "#H4 esta incorreta, o crecimento de preço dos imvoeis YoY é de 0.52% "
   ]
  },
  {
   "cell_type": "markdown",
   "id": "e3395a33",
   "metadata": {
    "heading_collapsed": true
   },
   "source": [
    "# Hipotese 5 "
   ]
  },
  {
   "cell_type": "code",
   "execution_count": 120,
   "id": "a5e1bdd7",
   "metadata": {
    "ExecuteTime": {
     "end_time": "2022-01-26T13:58:14.923222Z",
     "start_time": "2022-01-26T13:58:14.914228Z"
    },
    "hidden": true
   },
   "outputs": [],
   "source": [
    "#H5: Imóveis com 3 banheiros tem um crescimento MoM de 15%"
   ]
  },
  {
   "cell_type": "code",
   "execution_count": 28,
   "id": "476b95da",
   "metadata": {
    "ExecuteTime": {
     "end_time": "2022-01-27T13:38:19.881399Z",
     "start_time": "2022-01-27T13:38:19.866395Z"
    },
    "hidden": true
   },
   "outputs": [],
   "source": [
    "import pandas as pd\n",
    "import numpy as np "
   ]
  },
  {
   "cell_type": "code",
   "execution_count": 29,
   "id": "584d5c5b",
   "metadata": {
    "ExecuteTime": {
     "end_time": "2022-01-27T13:38:20.103428Z",
     "start_time": "2022-01-27T13:38:20.034401Z"
    },
    "hidden": true
   },
   "outputs": [],
   "source": [
    "df = pd.read_csv('datasets/kc_house_data.csv')\n",
    "pd.set_option('display.float_format',lambda x: '%.2f' % x)"
   ]
  },
  {
   "cell_type": "code",
   "execution_count": 30,
   "id": "8971cfe7",
   "metadata": {
    "ExecuteTime": {
     "end_time": "2022-01-27T13:38:20.321379Z",
     "start_time": "2022-01-27T13:38:20.155461Z"
    },
    "hidden": true
   },
   "outputs": [],
   "source": [
    "df['month'] = pd.to_datetime(df['date']).dt.strftime('%m')"
   ]
  },
  {
   "cell_type": "code",
   "execution_count": 31,
   "id": "d9c48ab0",
   "metadata": {
    "ExecuteTime": {
     "end_time": "2022-01-27T13:38:20.337356Z",
     "start_time": "2022-01-27T13:38:20.323364Z"
    },
    "hidden": true
   },
   "outputs": [],
   "source": [
    "df['bathrooms3'] = df['bathrooms'] == 3 "
   ]
  },
  {
   "cell_type": "code",
   "execution_count": 32,
   "id": "1dbb2427",
   "metadata": {
    "ExecuteTime": {
     "end_time": "2022-01-27T13:38:20.525903Z",
     "start_time": "2022-01-27T13:38:20.514896Z"
    },
    "hidden": true,
    "scrolled": true
   },
   "outputs": [],
   "source": [
    "df1 = df[['bathrooms3', 'month', 'price']]"
   ]
  },
  {
   "cell_type": "code",
   "execution_count": 37,
   "id": "326a8cde",
   "metadata": {
    "ExecuteTime": {
     "end_time": "2022-01-27T13:43:22.986423Z",
     "start_time": "2022-01-27T13:43:22.963437Z"
    },
    "hidden": true
   },
   "outputs": [],
   "source": [
    "#False = é diferente de 3 \n",
    "# True = é igual a 3 \n",
    "\n",
    "df2 = df1[['price', 'bathrooms3', 'month']].groupby(['bathrooms3', 'month']).mean().reset_index()"
   ]
  },
  {
   "cell_type": "code",
   "execution_count": 34,
   "id": "ce2f4a63",
   "metadata": {
    "ExecuteTime": {
     "end_time": "2022-01-27T13:38:21.370988Z",
     "start_time": "2022-01-27T13:38:21.361994Z"
    },
    "hidden": true
   },
   "outputs": [],
   "source": [
    "sem_3_bath_media = df2.loc[0:11, 'price']\n",
    "com_3_bath_media = df2.loc[12:23, 'price']"
   ]
  },
  {
   "cell_type": "code",
   "execution_count": 39,
   "id": "294fe97f",
   "metadata": {
    "ExecuteTime": {
     "end_time": "2022-01-27T13:46:34.752503Z",
     "start_time": "2022-01-27T13:46:34.747505Z"
    },
    "hidden": true,
    "scrolled": true
   },
   "outputs": [],
   "source": [
    "df2.rename(columns = {'bathrooms3': 'TEM 3 BANHEIROS', 'month': 'MES', 'price': 'MEDIA DE PREÇO'}, inplace = True)"
   ]
  },
  {
   "cell_type": "code",
   "execution_count": 40,
   "id": "dc4494e7",
   "metadata": {
    "ExecuteTime": {
     "end_time": "2022-01-27T13:46:37.483236Z",
     "start_time": "2022-01-27T13:46:37.467246Z"
    },
    "hidden": true
   },
   "outputs": [
    {
     "data": {
      "text/html": [
       "<div>\n",
       "<style scoped>\n",
       "    .dataframe tbody tr th:only-of-type {\n",
       "        vertical-align: middle;\n",
       "    }\n",
       "\n",
       "    .dataframe tbody tr th {\n",
       "        vertical-align: top;\n",
       "    }\n",
       "\n",
       "    .dataframe thead th {\n",
       "        text-align: right;\n",
       "    }\n",
       "</style>\n",
       "<table border=\"1\" class=\"dataframe\">\n",
       "  <thead>\n",
       "    <tr style=\"text-align: right;\">\n",
       "      <th></th>\n",
       "      <th>TEM 3 BANHEIROS</th>\n",
       "      <th>MES</th>\n",
       "      <th>MEDIA DE PREÇO</th>\n",
       "    </tr>\n",
       "  </thead>\n",
       "  <tbody>\n",
       "    <tr>\n",
       "      <th>0</th>\n",
       "      <td>False</td>\n",
       "      <td>01</td>\n",
       "      <td>519436.37</td>\n",
       "    </tr>\n",
       "    <tr>\n",
       "      <th>1</th>\n",
       "      <td>False</td>\n",
       "      <td>02</td>\n",
       "      <td>500798.39</td>\n",
       "    </tr>\n",
       "    <tr>\n",
       "      <th>2</th>\n",
       "      <td>False</td>\n",
       "      <td>03</td>\n",
       "      <td>537572.95</td>\n",
       "    </tr>\n",
       "    <tr>\n",
       "      <th>3</th>\n",
       "      <td>False</td>\n",
       "      <td>04</td>\n",
       "      <td>555979.10</td>\n",
       "    </tr>\n",
       "    <tr>\n",
       "      <th>4</th>\n",
       "      <td>False</td>\n",
       "      <td>05</td>\n",
       "      <td>545405.83</td>\n",
       "    </tr>\n",
       "    <tr>\n",
       "      <th>5</th>\n",
       "      <td>False</td>\n",
       "      <td>06</td>\n",
       "      <td>549947.81</td>\n",
       "    </tr>\n",
       "    <tr>\n",
       "      <th>6</th>\n",
       "      <td>False</td>\n",
       "      <td>07</td>\n",
       "      <td>538360.39</td>\n",
       "    </tr>\n",
       "    <tr>\n",
       "      <th>7</th>\n",
       "      <td>False</td>\n",
       "      <td>08</td>\n",
       "      <td>529583.66</td>\n",
       "    </tr>\n",
       "    <tr>\n",
       "      <th>8</th>\n",
       "      <td>False</td>\n",
       "      <td>09</td>\n",
       "      <td>524417.94</td>\n",
       "    </tr>\n",
       "    <tr>\n",
       "      <th>9</th>\n",
       "      <td>False</td>\n",
       "      <td>10</td>\n",
       "      <td>535147.98</td>\n",
       "    </tr>\n",
       "    <tr>\n",
       "      <th>10</th>\n",
       "      <td>False</td>\n",
       "      <td>11</td>\n",
       "      <td>516996.22</td>\n",
       "    </tr>\n",
       "    <tr>\n",
       "      <th>11</th>\n",
       "      <td>False</td>\n",
       "      <td>12</td>\n",
       "      <td>517584.70</td>\n",
       "    </tr>\n",
       "    <tr>\n",
       "      <th>12</th>\n",
       "      <td>True</td>\n",
       "      <td>01</td>\n",
       "      <td>672923.17</td>\n",
       "    </tr>\n",
       "    <tr>\n",
       "      <th>13</th>\n",
       "      <td>True</td>\n",
       "      <td>02</td>\n",
       "      <td>696714.42</td>\n",
       "    </tr>\n",
       "    <tr>\n",
       "      <th>14</th>\n",
       "      <td>True</td>\n",
       "      <td>03</td>\n",
       "      <td>768495.10</td>\n",
       "    </tr>\n",
       "    <tr>\n",
       "      <th>15</th>\n",
       "      <td>True</td>\n",
       "      <td>04</td>\n",
       "      <td>709751.99</td>\n",
       "    </tr>\n",
       "    <tr>\n",
       "      <th>16</th>\n",
       "      <td>True</td>\n",
       "      <td>05</td>\n",
       "      <td>689252.10</td>\n",
       "    </tr>\n",
       "    <tr>\n",
       "      <th>17</th>\n",
       "      <td>True</td>\n",
       "      <td>06</td>\n",
       "      <td>775057.56</td>\n",
       "    </tr>\n",
       "    <tr>\n",
       "      <th>18</th>\n",
       "      <td>True</td>\n",
       "      <td>07</td>\n",
       "      <td>741405.04</td>\n",
       "    </tr>\n",
       "    <tr>\n",
       "      <th>19</th>\n",
       "      <td>True</td>\n",
       "      <td>08</td>\n",
       "      <td>737576.56</td>\n",
       "    </tr>\n",
       "    <tr>\n",
       "      <th>20</th>\n",
       "      <td>True</td>\n",
       "      <td>09</td>\n",
       "      <td>645246.89</td>\n",
       "    </tr>\n",
       "    <tr>\n",
       "      <th>21</th>\n",
       "      <td>True</td>\n",
       "      <td>10</td>\n",
       "      <td>645523.02</td>\n",
       "    </tr>\n",
       "    <tr>\n",
       "      <th>22</th>\n",
       "      <td>True</td>\n",
       "      <td>11</td>\n",
       "      <td>679910.47</td>\n",
       "    </tr>\n",
       "    <tr>\n",
       "      <th>23</th>\n",
       "      <td>True</td>\n",
       "      <td>12</td>\n",
       "      <td>728341.19</td>\n",
       "    </tr>\n",
       "  </tbody>\n",
       "</table>\n",
       "</div>"
      ],
      "text/plain": [
       "    TEM 3 BANHEIROS MES  MEDIA DE PREÇO\n",
       "0             False  01       519436.37\n",
       "1             False  02       500798.39\n",
       "2             False  03       537572.95\n",
       "3             False  04       555979.10\n",
       "4             False  05       545405.83\n",
       "5             False  06       549947.81\n",
       "6             False  07       538360.39\n",
       "7             False  08       529583.66\n",
       "8             False  09       524417.94\n",
       "9             False  10       535147.98\n",
       "10            False  11       516996.22\n",
       "11            False  12       517584.70\n",
       "12             True  01       672923.17\n",
       "13             True  02       696714.42\n",
       "14             True  03       768495.10\n",
       "15             True  04       709751.99\n",
       "16             True  05       689252.10\n",
       "17             True  06       775057.56\n",
       "18             True  07       741405.04\n",
       "19             True  08       737576.56\n",
       "20             True  09       645246.89\n",
       "21             True  10       645523.02\n",
       "22             True  11       679910.47\n",
       "23             True  12       728341.19"
      ]
     },
     "execution_count": 40,
     "metadata": {},
     "output_type": "execute_result"
    }
   ],
   "source": [
    "df2"
   ]
  },
  {
   "cell_type": "code",
   "execution_count": null,
   "id": "b3eed76f",
   "metadata": {
    "hidden": true
   },
   "outputs": [],
   "source": []
  },
  {
   "cell_type": "markdown",
   "id": "d603e200",
   "metadata": {
    "heading_collapsed": true
   },
   "source": [
    "# Hipotese 6 "
   ]
  },
  {
   "cell_type": "code",
   "execution_count": 41,
   "id": "304cc4b4",
   "metadata": {
    "ExecuteTime": {
     "end_time": "2022-01-27T13:47:40.332295Z",
     "start_time": "2022-01-27T13:47:40.325285Z"
    },
    "hidden": true
   },
   "outputs": [],
   "source": [
    "#Imoveis com waterfront são 30% mais caros que os imoveis sem waterfrontn, na media"
   ]
  },
  {
   "cell_type": "code",
   "execution_count": 42,
   "id": "f17c4a46",
   "metadata": {
    "ExecuteTime": {
     "end_time": "2022-01-27T13:47:40.537576Z",
     "start_time": "2022-01-27T13:47:40.521571Z"
    },
    "hidden": true
   },
   "outputs": [],
   "source": [
    "import pandas as pd "
   ]
  },
  {
   "cell_type": "code",
   "execution_count": 43,
   "id": "54233e0f",
   "metadata": {
    "ExecuteTime": {
     "end_time": "2022-01-27T13:47:40.745448Z",
     "start_time": "2022-01-27T13:47:40.674819Z"
    },
    "hidden": true
   },
   "outputs": [],
   "source": [
    "df = pd.read_csv('datasets/kc_house_data.csv')\n",
    "cols = df[['sqft_living15', 'sqft_lot15']]\n",
    "df = df.drop(cols, axis = 1)"
   ]
  },
  {
   "cell_type": "code",
   "execution_count": 44,
   "id": "efd6bd70",
   "metadata": {
    "ExecuteTime": {
     "end_time": "2022-01-27T13:47:40.841506Z",
     "start_time": "2022-01-27T13:47:40.826516Z"
    },
    "hidden": true
   },
   "outputs": [],
   "source": [
    "df1 = df[['price', 'waterfront']].groupby(['waterfront']).mean().reset_index()"
   ]
  },
  {
   "cell_type": "code",
   "execution_count": 45,
   "id": "a8c3d6a1",
   "metadata": {
    "ExecuteTime": {
     "end_time": "2022-01-27T13:47:40.997420Z",
     "start_time": "2022-01-27T13:47:40.978418Z"
    },
    "hidden": true
   },
   "outputs": [],
   "source": [
    "media_sem_waterfront = 531563.60\n",
    "media_com_waterfront = 1661876.02\n",
    "\n",
    "primeira_operacao= (media_com_waterfront - media_sem_waterfront ) / media_sem_waterfront\n",
    "df1['comparacao_da_media'] = primeira_operacao * 100"
   ]
  },
  {
   "cell_type": "code",
   "execution_count": 46,
   "id": "63387a3e",
   "metadata": {
    "ExecuteTime": {
     "end_time": "2022-01-27T13:47:41.359380Z",
     "start_time": "2022-01-27T13:47:41.354383Z"
    },
    "hidden": true
   },
   "outputs": [],
   "source": [
    "df1.rename (columns = {'waterfront': 'VISTA PARA AGUA', 'price': 'PREÇO MEDIO', \n",
    "                       'comparacao_da_media': 'COMPARAÇÃO DE MEDIAS'}, inplace = True)"
   ]
  },
  {
   "cell_type": "code",
   "execution_count": 47,
   "id": "3dd2bfb2",
   "metadata": {
    "ExecuteTime": {
     "end_time": "2022-01-27T13:47:42.292805Z",
     "start_time": "2022-01-27T13:47:42.274816Z"
    },
    "hidden": true
   },
   "outputs": [
    {
     "data": {
      "text/html": [
       "<div>\n",
       "<style scoped>\n",
       "    .dataframe tbody tr th:only-of-type {\n",
       "        vertical-align: middle;\n",
       "    }\n",
       "\n",
       "    .dataframe tbody tr th {\n",
       "        vertical-align: top;\n",
       "    }\n",
       "\n",
       "    .dataframe thead th {\n",
       "        text-align: right;\n",
       "    }\n",
       "</style>\n",
       "<table border=\"1\" class=\"dataframe\">\n",
       "  <thead>\n",
       "    <tr style=\"text-align: right;\">\n",
       "      <th></th>\n",
       "      <th>VISTA PARA AGUA</th>\n",
       "      <th>PREÇO MEDIO</th>\n",
       "      <th>COMPARAÇÃO DE MEDIAS</th>\n",
       "    </tr>\n",
       "  </thead>\n",
       "  <tbody>\n",
       "    <tr>\n",
       "      <th>0</th>\n",
       "      <td>0</td>\n",
       "      <td>531563.60</td>\n",
       "      <td>212.64</td>\n",
       "    </tr>\n",
       "    <tr>\n",
       "      <th>1</th>\n",
       "      <td>1</td>\n",
       "      <td>1661876.02</td>\n",
       "      <td>212.64</td>\n",
       "    </tr>\n",
       "  </tbody>\n",
       "</table>\n",
       "</div>"
      ],
      "text/plain": [
       "   VISTA PARA AGUA  PREÇO MEDIO  COMPARAÇÃO DE MEDIAS\n",
       "0                0    531563.60                212.64\n",
       "1                1   1661876.02                212.64"
      ]
     },
     "execution_count": 47,
     "metadata": {},
     "output_type": "execute_result"
    }
   ],
   "source": [
    "df1"
   ]
  },
  {
   "cell_type": "code",
   "execution_count": 119,
   "id": "3633a6f6",
   "metadata": {
    "ExecuteTime": {
     "end_time": "2022-01-25T16:28:08.443049Z",
     "start_time": "2022-01-25T16:28:08.426059Z"
    },
    "hidden": true
   },
   "outputs": [],
   "source": [
    "#H6, os imoveis com waterfront são 212% mais caros do que imoveis sem waterfront "
   ]
  },
  {
   "cell_type": "markdown",
   "id": "9cec82a2",
   "metadata": {
    "heading_collapsed": true
   },
   "source": [
    "# Hipotese 7"
   ]
  },
  {
   "cell_type": "code",
   "execution_count": null,
   "id": "bdb2859f",
   "metadata": {
    "hidden": true
   },
   "outputs": [],
   "source": [
    "#Imoveis com condition maior que 3 são 25% mais caros dos imoveis com condition < 3, , na media"
   ]
  },
  {
   "cell_type": "code",
   "execution_count": 120,
   "id": "b0769ca4",
   "metadata": {
    "ExecuteTime": {
     "end_time": "2022-01-25T16:32:24.875624Z",
     "start_time": "2022-01-25T16:32:24.868629Z"
    },
    "hidden": true
   },
   "outputs": [],
   "source": [
    "import pandas as pd"
   ]
  },
  {
   "cell_type": "code",
   "execution_count": 142,
   "id": "d0e14113",
   "metadata": {
    "ExecuteTime": {
     "end_time": "2022-01-25T16:44:27.448458Z",
     "start_time": "2022-01-25T16:44:27.386885Z"
    },
    "hidden": true
   },
   "outputs": [],
   "source": [
    "df = pd.read_csv('datasets/kc_house_data.csv')\n",
    "pd.set_option('display.float_format',lambda x: '%.2f' % x)"
   ]
  },
  {
   "cell_type": "code",
   "execution_count": 143,
   "id": "e988633d",
   "metadata": {
    "ExecuteTime": {
     "end_time": "2022-01-25T16:44:28.118905Z",
     "start_time": "2022-01-25T16:44:28.106912Z"
    },
    "hidden": true
   },
   "outputs": [],
   "source": [
    "df['condition_maior_3'] = df['condition'] > 3"
   ]
  },
  {
   "cell_type": "code",
   "execution_count": 144,
   "id": "1963eb7c",
   "metadata": {
    "ExecuteTime": {
     "end_time": "2022-01-25T16:44:28.306448Z",
     "start_time": "2022-01-25T16:44:28.298452Z"
    },
    "hidden": true
   },
   "outputs": [],
   "source": [
    "df1 = df[['price', 'condition_maior_3']].groupby(['condition_maior_3']).mean().reset_index()"
   ]
  },
  {
   "cell_type": "code",
   "execution_count": 146,
   "id": "4cde68f5",
   "metadata": {
    "ExecuteTime": {
     "end_time": "2022-01-25T16:44:30.951699Z",
     "start_time": "2022-01-25T16:44:30.946689Z"
    },
    "hidden": true
   },
   "outputs": [],
   "source": [
    "#False é menor que 3 \n",
    "#True é maior que 3 "
   ]
  },
  {
   "cell_type": "code",
   "execution_count": 156,
   "id": "30fcad51",
   "metadata": {
    "ExecuteTime": {
     "end_time": "2022-01-25T16:45:27.084204Z",
     "start_time": "2022-01-25T16:45:27.074210Z"
    },
    "hidden": true
   },
   "outputs": [],
   "source": [
    "media_condition_menor3 = 538980.17\n",
    "media_condition_maior3 = 542224.96\n",
    "\n",
    "primeira_operacao = (media_condition_maior3 - media_condition_menor3) / media_condition_menor3\n",
    "df1['comparacao_media'] = primeira_operacao * 100"
   ]
  },
  {
   "cell_type": "code",
   "execution_count": 159,
   "id": "1b13e9b9",
   "metadata": {
    "ExecuteTime": {
     "end_time": "2022-01-25T16:47:00.963997Z",
     "start_time": "2022-01-25T16:47:00.946007Z"
    },
    "hidden": true
   },
   "outputs": [],
   "source": [
    "df1.rename(columns = {'price': 'MEDIA DE PRECO', 'comparacao_media': 'COMPARAÇÃO DAS MEDIAS'\n",
    "                      , 'condition_maior_3': 'CONDIÇÃO MAIOR QUE 3' }, inplace= True)"
   ]
  },
  {
   "cell_type": "code",
   "execution_count": 160,
   "id": "09cc366f",
   "metadata": {
    "ExecuteTime": {
     "end_time": "2022-01-25T16:47:04.814792Z",
     "start_time": "2022-01-25T16:47:04.803799Z"
    },
    "hidden": true
   },
   "outputs": [
    {
     "data": {
      "text/html": [
       "<div>\n",
       "<style scoped>\n",
       "    .dataframe tbody tr th:only-of-type {\n",
       "        vertical-align: middle;\n",
       "    }\n",
       "\n",
       "    .dataframe tbody tr th {\n",
       "        vertical-align: top;\n",
       "    }\n",
       "\n",
       "    .dataframe thead th {\n",
       "        text-align: right;\n",
       "    }\n",
       "</style>\n",
       "<table border=\"1\" class=\"dataframe\">\n",
       "  <thead>\n",
       "    <tr style=\"text-align: right;\">\n",
       "      <th></th>\n",
       "      <th>CONDIÇÃO MAIOR QUE 3</th>\n",
       "      <th>MEDIA DE PRECO</th>\n",
       "      <th>COMPARAÇÃO DAS MEDIAS</th>\n",
       "    </tr>\n",
       "  </thead>\n",
       "  <tbody>\n",
       "    <tr>\n",
       "      <th>0</th>\n",
       "      <td>False</td>\n",
       "      <td>538980.17</td>\n",
       "      <td>0.60</td>\n",
       "    </tr>\n",
       "    <tr>\n",
       "      <th>1</th>\n",
       "      <td>True</td>\n",
       "      <td>542224.96</td>\n",
       "      <td>0.60</td>\n",
       "    </tr>\n",
       "  </tbody>\n",
       "</table>\n",
       "</div>"
      ],
      "text/plain": [
       "   CONDIÇÃO MAIOR QUE 3  MEDIA DE PRECO  COMPARAÇÃO DAS MEDIAS\n",
       "0                 False       538980.17                   0.60\n",
       "1                  True       542224.96                   0.60"
      ]
     },
     "execution_count": 160,
     "metadata": {},
     "output_type": "execute_result"
    }
   ],
   "source": [
    "df1"
   ]
  },
  {
   "cell_type": "code",
   "execution_count": null,
   "id": "d62d92f0",
   "metadata": {
    "hidden": true
   },
   "outputs": [],
   "source": [
    "#Hipotese 7, imoveis com com condiçoes acima de 3 são 0,60% mais caros do que imoveis com condiçoes menores que  3"
   ]
  },
  {
   "cell_type": "markdown",
   "id": "df7e9307",
   "metadata": {
    "heading_collapsed": true
   },
   "source": [
    "# Hipotese 8 "
   ]
  },
  {
   "cell_type": "code",
   "execution_count": 161,
   "id": "0805b4fd",
   "metadata": {
    "ExecuteTime": {
     "end_time": "2022-01-25T16:49:44.439043Z",
     "start_time": "2022-01-25T16:49:44.435046Z"
    },
    "hidden": true
   },
   "outputs": [],
   "source": [
    "# Imoveis com 2 ou mais andares são 40% mais caros que imoveis com 1 ou menos andares , na media"
   ]
  },
  {
   "cell_type": "code",
   "execution_count": 24,
   "id": "c63e10d3",
   "metadata": {
    "ExecuteTime": {
     "end_time": "2022-01-26T13:20:39.338256Z",
     "start_time": "2022-01-26T13:20:39.272491Z"
    },
    "hidden": true
   },
   "outputs": [],
   "source": [
    "import pandas as pd\n",
    "pd.set_option('display.float_format',lambda x: '%.2f' % x)\n",
    "\n",
    "df = pd.read_csv('datasets/kc_house_data.csv')"
   ]
  },
  {
   "cell_type": "code",
   "execution_count": 26,
   "id": "e28f4ce8",
   "metadata": {
    "ExecuteTime": {
     "end_time": "2022-01-26T13:20:39.571791Z",
     "start_time": "2022-01-26T13:20:39.553815Z"
    },
    "hidden": true
   },
   "outputs": [],
   "source": [
    "#True = acima ou igual 2 \n",
    "#False = abaixo de 2 \n",
    "\n",
    "df['more_than2'] = df['floors'] >= 2"
   ]
  },
  {
   "cell_type": "code",
   "execution_count": 27,
   "id": "09f4ca4b",
   "metadata": {
    "ExecuteTime": {
     "end_time": "2022-01-26T13:20:39.727326Z",
     "start_time": "2022-01-26T13:20:39.704340Z"
    },
    "hidden": true
   },
   "outputs": [],
   "source": [
    "df1 = df[['price', 'more_than2']].groupby(['more_than2']).mean().reset_index()"
   ]
  },
  {
   "cell_type": "code",
   "execution_count": 28,
   "id": "6bfa75a5",
   "metadata": {
    "ExecuteTime": {
     "end_time": "2022-01-26T13:20:39.837296Z",
     "start_time": "2022-01-26T13:20:39.832299Z"
    },
    "hidden": true
   },
   "outputs": [],
   "source": [
    "media_floors_maior2 = 651976.37\n",
    "media_floors_menor2 = 459900.09\n",
    "\n",
    "primera_operacao = (media_floors_maior2 - media_floors_menor2 ) / media_floors_menor2\n",
    "df1 ['media_floors'] = primera_operacao * 100"
   ]
  },
  {
   "cell_type": "code",
   "execution_count": 31,
   "id": "eec3834a",
   "metadata": {
    "ExecuteTime": {
     "end_time": "2022-01-26T13:23:00.380794Z",
     "start_time": "2022-01-26T13:23:00.362791Z"
    },
    "hidden": true
   },
   "outputs": [],
   "source": [
    "df1.rename(columns = {'more_than2': 'MENOS OU MAIS QUE DOIS ANDARES', 'price': 'MEDIA DOS PREÇOS',\n",
    "                      'media_floors': 'RESULTADO DA COMPARAÇÃO DAS MEDIAS'}, inplace=True)"
   ]
  },
  {
   "cell_type": "code",
   "execution_count": 32,
   "id": "13f591bd",
   "metadata": {
    "ExecuteTime": {
     "end_time": "2022-01-26T13:23:03.164223Z",
     "start_time": "2022-01-26T13:23:03.153230Z"
    },
    "hidden": true
   },
   "outputs": [
    {
     "data": {
      "text/html": [
       "<div>\n",
       "<style scoped>\n",
       "    .dataframe tbody tr th:only-of-type {\n",
       "        vertical-align: middle;\n",
       "    }\n",
       "\n",
       "    .dataframe tbody tr th {\n",
       "        vertical-align: top;\n",
       "    }\n",
       "\n",
       "    .dataframe thead th {\n",
       "        text-align: right;\n",
       "    }\n",
       "</style>\n",
       "<table border=\"1\" class=\"dataframe\">\n",
       "  <thead>\n",
       "    <tr style=\"text-align: right;\">\n",
       "      <th></th>\n",
       "      <th>MENOS OU MAIS QUE DOIS ANDARES</th>\n",
       "      <th>MEDIA DOS PREÇOS</th>\n",
       "      <th>RESULTADO DA COMPARAÇÃO DAS MEDIAS</th>\n",
       "    </tr>\n",
       "  </thead>\n",
       "  <tbody>\n",
       "    <tr>\n",
       "      <th>0</th>\n",
       "      <td>False</td>\n",
       "      <td>459900.09</td>\n",
       "      <td>41.76</td>\n",
       "    </tr>\n",
       "    <tr>\n",
       "      <th>1</th>\n",
       "      <td>True</td>\n",
       "      <td>651976.37</td>\n",
       "      <td>41.76</td>\n",
       "    </tr>\n",
       "  </tbody>\n",
       "</table>\n",
       "</div>"
      ],
      "text/plain": [
       "   MENOS OU MAIS QUE DOIS ANDARES  MEDIA DOS PREÇOS  \\\n",
       "0                           False         459900.09   \n",
       "1                            True         651976.37   \n",
       "\n",
       "   RESULTADO DA COMPARAÇÃO DAS MEDIAS  \n",
       "0                               41.76  \n",
       "1                               41.76  "
      ]
     },
     "execution_count": 32,
     "metadata": {},
     "output_type": "execute_result"
    }
   ],
   "source": [
    "df1"
   ]
  },
  {
   "cell_type": "code",
   "execution_count": null,
   "id": "61bb1903",
   "metadata": {
    "hidden": true
   },
   "outputs": [],
   "source": [
    "# H8 esa errada, imoveis com 2 ou mais andares são 41,76% mais caros dos que com 1 andar."
   ]
  },
  {
   "cell_type": "markdown",
   "id": "09b5b9ba",
   "metadata": {
    "heading_collapsed": true
   },
   "source": [
    "# Hipotese 9 "
   ]
  },
  {
   "cell_type": "code",
   "execution_count": null,
   "id": "b0cc3311",
   "metadata": {
    "hidden": true
   },
   "outputs": [],
   "source": [
    "#O preço de um imóvel que já foi reformado é 30% maior do que um imóvel que não foi reformado, na media"
   ]
  },
  {
   "cell_type": "code",
   "execution_count": 104,
   "id": "f12f6d55",
   "metadata": {
    "ExecuteTime": {
     "end_time": "2022-01-26T13:57:05.471742Z",
     "start_time": "2022-01-26T13:57:05.458736Z"
    },
    "hidden": true
   },
   "outputs": [],
   "source": [
    "import pandas as pd"
   ]
  },
  {
   "cell_type": "code",
   "execution_count": 105,
   "id": "c1831d62",
   "metadata": {
    "ExecuteTime": {
     "end_time": "2022-01-26T13:57:05.691260Z",
     "start_time": "2022-01-26T13:57:05.625489Z"
    },
    "hidden": true
   },
   "outputs": [],
   "source": [
    "df = pd.read_csv('datasets/kc_house_data.csv')\n",
    "pd.set_option('display.float_format',lambda x: '%.2f' % x)"
   ]
  },
  {
   "cell_type": "code",
   "execution_count": 106,
   "id": "0a7b3940",
   "metadata": {
    "ExecuteTime": {
     "end_time": "2022-01-26T13:57:05.784670Z",
     "start_time": "2022-01-26T13:57:05.777676Z"
    },
    "hidden": true
   },
   "outputs": [],
   "source": [
    "#True = Que foi reformado, logo > 0\n",
    "#False = Que não foi reformado, logo = 0\n",
    "\n",
    "df['renovatedTF'] =  df['yr_renovated'] > 0 "
   ]
  },
  {
   "cell_type": "code",
   "execution_count": 107,
   "id": "07f51c8e",
   "metadata": {
    "ExecuteTime": {
     "end_time": "2022-01-26T13:57:05.925207Z",
     "start_time": "2022-01-26T13:57:05.905232Z"
    },
    "hidden": true
   },
   "outputs": [],
   "source": [
    "df1 = df[['price', 'renovatedTF']].groupby(['renovatedTF']).mean().reset_index()"
   ]
  },
  {
   "cell_type": "code",
   "execution_count": 108,
   "id": "325e1e62",
   "metadata": {
    "ExecuteTime": {
     "end_time": "2022-01-26T13:57:06.050449Z",
     "start_time": "2022-01-26T13:57:06.034444Z"
    },
    "hidden": true
   },
   "outputs": [
    {
     "data": {
      "text/html": [
       "<div>\n",
       "<style scoped>\n",
       "    .dataframe tbody tr th:only-of-type {\n",
       "        vertical-align: middle;\n",
       "    }\n",
       "\n",
       "    .dataframe tbody tr th {\n",
       "        vertical-align: top;\n",
       "    }\n",
       "\n",
       "    .dataframe thead th {\n",
       "        text-align: right;\n",
       "    }\n",
       "</style>\n",
       "<table border=\"1\" class=\"dataframe\">\n",
       "  <thead>\n",
       "    <tr style=\"text-align: right;\">\n",
       "      <th></th>\n",
       "      <th>renovatedTF</th>\n",
       "      <th>price</th>\n",
       "    </tr>\n",
       "  </thead>\n",
       "  <tbody>\n",
       "    <tr>\n",
       "      <th>0</th>\n",
       "      <td>False</td>\n",
       "      <td>530360.82</td>\n",
       "    </tr>\n",
       "    <tr>\n",
       "      <th>1</th>\n",
       "      <td>True</td>\n",
       "      <td>760379.03</td>\n",
       "    </tr>\n",
       "  </tbody>\n",
       "</table>\n",
       "</div>"
      ],
      "text/plain": [
       "   renovatedTF     price\n",
       "0        False 530360.82\n",
       "1         True 760379.03"
      ]
     },
     "execution_count": 108,
     "metadata": {},
     "output_type": "execute_result"
    }
   ],
   "source": [
    "df1"
   ]
  },
  {
   "cell_type": "code",
   "execution_count": 109,
   "id": "95b6362c",
   "metadata": {
    "ExecuteTime": {
     "end_time": "2022-01-26T13:57:06.237595Z",
     "start_time": "2022-01-26T13:57:06.225616Z"
    },
    "hidden": true
   },
   "outputs": [],
   "source": [
    "media_renovated = 760379.03\n",
    "media_not_renovated = 530360.82\n",
    "\n",
    "primeira_operacao = (media_renovated - media_not_renovated ) / media_not_renovated\n",
    "df1['comparacao_media'] = primeira_operacao * 100"
   ]
  },
  {
   "cell_type": "code",
   "execution_count": 110,
   "id": "8f432054",
   "metadata": {
    "ExecuteTime": {
     "end_time": "2022-01-26T13:57:06.687550Z",
     "start_time": "2022-01-26T13:57:06.673559Z"
    },
    "hidden": true
   },
   "outputs": [
    {
     "data": {
      "text/html": [
       "<div>\n",
       "<style scoped>\n",
       "    .dataframe tbody tr th:only-of-type {\n",
       "        vertical-align: middle;\n",
       "    }\n",
       "\n",
       "    .dataframe tbody tr th {\n",
       "        vertical-align: top;\n",
       "    }\n",
       "\n",
       "    .dataframe thead th {\n",
       "        text-align: right;\n",
       "    }\n",
       "</style>\n",
       "<table border=\"1\" class=\"dataframe\">\n",
       "  <thead>\n",
       "    <tr style=\"text-align: right;\">\n",
       "      <th></th>\n",
       "      <th>renovatedTF</th>\n",
       "      <th>price</th>\n",
       "      <th>comparacao_media</th>\n",
       "    </tr>\n",
       "  </thead>\n",
       "  <tbody>\n",
       "    <tr>\n",
       "      <th>0</th>\n",
       "      <td>False</td>\n",
       "      <td>530360.82</td>\n",
       "      <td>43.37</td>\n",
       "    </tr>\n",
       "    <tr>\n",
       "      <th>1</th>\n",
       "      <td>True</td>\n",
       "      <td>760379.03</td>\n",
       "      <td>43.37</td>\n",
       "    </tr>\n",
       "  </tbody>\n",
       "</table>\n",
       "</div>"
      ],
      "text/plain": [
       "   renovatedTF     price  comparacao_media\n",
       "0        False 530360.82             43.37\n",
       "1         True 760379.03             43.37"
      ]
     },
     "execution_count": 110,
     "metadata": {},
     "output_type": "execute_result"
    }
   ],
   "source": [
    "df1"
   ]
  },
  {
   "cell_type": "code",
   "execution_count": 111,
   "id": "2465a43a",
   "metadata": {
    "ExecuteTime": {
     "end_time": "2022-01-26T13:57:06.909228Z",
     "start_time": "2022-01-26T13:57:06.897235Z"
    },
    "hidden": true
   },
   "outputs": [],
   "source": [
    "df1.rename (columns = {'renovatedTF': 'TEVE OU NÃO REFORMA','price': 'MEDIA DE PREÇOS',\n",
    "                       'comparacao_media': 'COMPARAÇÃO DAS MEDIAS'}, inplace= True)"
   ]
  },
  {
   "cell_type": "code",
   "execution_count": 112,
   "id": "0386b93e",
   "metadata": {
    "ExecuteTime": {
     "end_time": "2022-01-26T13:57:07.430687Z",
     "start_time": "2022-01-26T13:57:07.409687Z"
    },
    "hidden": true
   },
   "outputs": [
    {
     "data": {
      "text/html": [
       "<div>\n",
       "<style scoped>\n",
       "    .dataframe tbody tr th:only-of-type {\n",
       "        vertical-align: middle;\n",
       "    }\n",
       "\n",
       "    .dataframe tbody tr th {\n",
       "        vertical-align: top;\n",
       "    }\n",
       "\n",
       "    .dataframe thead th {\n",
       "        text-align: right;\n",
       "    }\n",
       "</style>\n",
       "<table border=\"1\" class=\"dataframe\">\n",
       "  <thead>\n",
       "    <tr style=\"text-align: right;\">\n",
       "      <th></th>\n",
       "      <th>TEVE OU NÃO REFORMA</th>\n",
       "      <th>MEDIA DE PREÇOS</th>\n",
       "      <th>COMPARAÇÃO DAS MEDIAS</th>\n",
       "    </tr>\n",
       "  </thead>\n",
       "  <tbody>\n",
       "    <tr>\n",
       "      <th>0</th>\n",
       "      <td>False</td>\n",
       "      <td>530360.82</td>\n",
       "      <td>43.37</td>\n",
       "    </tr>\n",
       "    <tr>\n",
       "      <th>1</th>\n",
       "      <td>True</td>\n",
       "      <td>760379.03</td>\n",
       "      <td>43.37</td>\n",
       "    </tr>\n",
       "  </tbody>\n",
       "</table>\n",
       "</div>"
      ],
      "text/plain": [
       "   TEVE OU NÃO REFORMA  MEDIA DE PREÇOS  COMPARAÇÃO DAS MEDIAS\n",
       "0                False        530360.82                  43.37\n",
       "1                 True        760379.03                  43.37"
      ]
     },
     "execution_count": 112,
     "metadata": {},
     "output_type": "execute_result"
    }
   ],
   "source": [
    "df1"
   ]
  },
  {
   "cell_type": "code",
   "execution_count": 113,
   "id": "aed585b4",
   "metadata": {
    "ExecuteTime": {
     "end_time": "2022-01-26T13:57:12.352557Z",
     "start_time": "2022-01-26T13:57:12.345563Z"
    },
    "hidden": true
   },
   "outputs": [],
   "source": [
    "#Hipotse 9, o preço do imovel ja reformado é 44% mais caro do que o não renovado"
   ]
  },
  {
   "cell_type": "markdown",
   "id": "ea044a81",
   "metadata": {
    "heading_collapsed": true
   },
   "source": [
    "# Hipotese 10"
   ]
  },
  {
   "cell_type": "code",
   "execution_count": 114,
   "id": "cb5fcfbe",
   "metadata": {
    "ExecuteTime": {
     "end_time": "2022-01-26T13:57:17.227024Z",
     "start_time": "2022-01-26T13:57:17.209035Z"
    },
    "hidden": true
   },
   "outputs": [],
   "source": [
    "    #Casas com uma sala de estar acima de 3000 são 15% mais caras que casas com sala de estar menor que 700, na media"
   ]
  },
  {
   "cell_type": "code",
   "execution_count": 180,
   "id": "33185be8",
   "metadata": {
    "ExecuteTime": {
     "end_time": "2022-01-26T14:27:41.900944Z",
     "start_time": "2022-01-26T14:27:41.889951Z"
    },
    "hidden": true
   },
   "outputs": [],
   "source": [
    "import pandas as pd"
   ]
  },
  {
   "cell_type": "code",
   "execution_count": 181,
   "id": "f490c285",
   "metadata": {
    "ExecuteTime": {
     "end_time": "2022-01-26T14:27:42.149992Z",
     "start_time": "2022-01-26T14:27:42.072932Z"
    },
    "hidden": true
   },
   "outputs": [],
   "source": [
    "df = pd.read_csv('datasets/kc_house_data.csv')\n",
    "pd.set_option('display.float_format',lambda x: '%.2f' % x)\n"
   ]
  },
  {
   "cell_type": "code",
   "execution_count": 182,
   "id": "66b5d6a4",
   "metadata": {
    "ExecuteTime": {
     "end_time": "2022-01-26T14:27:42.668925Z",
     "start_time": "2022-01-26T14:27:42.656919Z"
    },
    "hidden": true
   },
   "outputs": [],
   "source": [
    "df['sqftliving3000+'] = df['sqft_living'] > 3000\n",
    "df['sqftliving700-'] = df['sqft_living'] < 700"
   ]
  },
  {
   "cell_type": "code",
   "execution_count": 183,
   "id": "a32fda64",
   "metadata": {
    "ExecuteTime": {
     "end_time": "2022-01-26T14:27:44.394077Z",
     "start_time": "2022-01-26T14:27:44.377073Z"
    },
    "hidden": true
   },
   "outputs": [],
   "source": [
    "df99 = df[['price', 'sqftliving3000+']].groupby(['sqftliving3000+']).mean().reset_index()           \n",
    "df7 = df[['price', 'sqftliving700-']].groupby(['sqftliving700-']).mean().reset_index()"
   ]
  },
  {
   "cell_type": "code",
   "execution_count": 184,
   "id": "8ff30503",
   "metadata": {
    "ExecuteTime": {
     "end_time": "2022-01-26T14:27:46.584601Z",
     "start_time": "2022-01-26T14:27:46.569595Z"
    },
    "hidden": true
   },
   "outputs": [],
   "source": [
    "df3 = pd.concat ([df99, df7], axis = 1)"
   ]
  },
  {
   "cell_type": "code",
   "execution_count": 186,
   "id": "f7e6b67b",
   "metadata": {
    "ExecuteTime": {
     "end_time": "2022-01-26T14:27:49.471819Z",
     "start_time": "2022-01-26T14:27:49.456828Z"
    },
    "hidden": true
   },
   "outputs": [],
   "source": [
    "media_living3000 = 1038926.50\n",
    "media_living700 =  250309.12\n",
    "\n",
    "df3['comparacao_mediash10'] = ((media_living3000 - media_living700 ) / media_living700 ) * 100"
   ]
  },
  {
   "cell_type": "code",
   "execution_count": 189,
   "id": "a67d4c32",
   "metadata": {
    "ExecuteTime": {
     "end_time": "2022-01-26T14:29:21.240068Z",
     "start_time": "2022-01-26T14:29:21.226090Z"
    },
    "hidden": true
   },
   "outputs": [],
   "source": [
    "df3['comparacao_mediash10'] = df3['sqftliving3000+'].apply(lambda x: 315.05 if x == True \n",
    "                                                           else 'NA' )"
   ]
  },
  {
   "cell_type": "code",
   "execution_count": 193,
   "id": "1f3c9351",
   "metadata": {
    "ExecuteTime": {
     "end_time": "2022-01-26T14:34:39.388787Z",
     "start_time": "2022-01-26T14:34:39.370799Z"
    },
    "hidden": true
   },
   "outputs": [],
   "source": [
    "df3.rename(columns = {'sqftliving3000+': 'SALA DE ESTAR ESTA ACIMA DE 3000', \n",
    "                      'price': 'MEDIAS DE PREÇO', 'comparacao_mediash10': 'COMPARAÇÃO DAS MEDIAS',\n",
    "                      'sqftliving700-': 'SALA DE ESTAR ESTA MENOR QUE 700'}, inplace = True)"
   ]
  },
  {
   "cell_type": "code",
   "execution_count": 194,
   "id": "2750eae1",
   "metadata": {
    "ExecuteTime": {
     "end_time": "2022-01-26T14:34:40.831526Z",
     "start_time": "2022-01-26T14:34:40.819519Z"
    },
    "hidden": true
   },
   "outputs": [
    {
     "data": {
      "text/html": [
       "<div>\n",
       "<style scoped>\n",
       "    .dataframe tbody tr th:only-of-type {\n",
       "        vertical-align: middle;\n",
       "    }\n",
       "\n",
       "    .dataframe tbody tr th {\n",
       "        vertical-align: top;\n",
       "    }\n",
       "\n",
       "    .dataframe thead th {\n",
       "        text-align: right;\n",
       "    }\n",
       "</style>\n",
       "<table border=\"1\" class=\"dataframe\">\n",
       "  <thead>\n",
       "    <tr style=\"text-align: right;\">\n",
       "      <th></th>\n",
       "      <th>SALA DE ESTAR ESTA ACIMA DE 3000</th>\n",
       "      <th>MEDIAS DE PREÇO</th>\n",
       "      <th>SALA DE ESTAR ESTA MENOR QUE 700</th>\n",
       "      <th>MEDIAS DE PREÇO</th>\n",
       "      <th>COMPARAÇÃO DAS MEDIAS</th>\n",
       "    </tr>\n",
       "  </thead>\n",
       "  <tbody>\n",
       "    <tr>\n",
       "      <th>0</th>\n",
       "      <td>False</td>\n",
       "      <td>457123.39</td>\n",
       "      <td>False</td>\n",
       "      <td>541950.28</td>\n",
       "      <td>NA</td>\n",
       "    </tr>\n",
       "    <tr>\n",
       "      <th>1</th>\n",
       "      <td>True</td>\n",
       "      <td>1038926.50</td>\n",
       "      <td>True</td>\n",
       "      <td>250309.12</td>\n",
       "      <td>315.05</td>\n",
       "    </tr>\n",
       "  </tbody>\n",
       "</table>\n",
       "</div>"
      ],
      "text/plain": [
       "   SALA DE ESTAR ESTA ACIMA DE 3000  MEDIAS DE PREÇO  \\\n",
       "0                             False        457123.39   \n",
       "1                              True       1038926.50   \n",
       "\n",
       "   SALA DE ESTAR ESTA MENOR QUE 700  MEDIAS DE PREÇO COMPARAÇÃO DAS MEDIAS  \n",
       "0                             False        541950.28                    NA  \n",
       "1                              True        250309.12                315.05  "
      ]
     },
     "execution_count": 194,
     "metadata": {},
     "output_type": "execute_result"
    }
   ],
   "source": [
    "df3"
   ]
  },
  {
   "cell_type": "code",
   "execution_count": null,
   "id": "90b79f5b",
   "metadata": {
    "hidden": true
   },
   "outputs": [],
   "source": [
    "#H10, casas com salata de estar acima de 3000 são 315% mais caras em media do que casas com menos de 700 de sala de estar."
   ]
  },
  {
   "cell_type": "markdown",
   "id": "cfbe87ae",
   "metadata": {
    "heading_collapsed": true
   },
   "source": [
    "# Ultima tabela "
   ]
  },
  {
   "cell_type": "code",
   "execution_count": 8,
   "id": "1a5b5d2e",
   "metadata": {
    "ExecuteTime": {
     "end_time": "2022-01-28T13:11:45.291104Z",
     "start_time": "2022-01-28T13:11:45.277097Z"
    },
    "hidden": true
   },
   "outputs": [],
   "source": [
    "#Nos é isso"
   ]
  },
  {
   "cell_type": "code",
   "execution_count": 209,
   "id": "3001598b",
   "metadata": {
    "ExecuteTime": {
     "end_time": "2022-01-28T15:39:02.091495Z",
     "start_time": "2022-01-28T15:39:02.027467Z"
    },
    "hidden": true
   },
   "outputs": [],
   "source": [
    "import pandas as pd \n",
    "df = pd.read_csv ('datasets/kc_house_data.csv')"
   ]
  },
  {
   "cell_type": "code",
   "execution_count": 210,
   "id": "e8827a8c",
   "metadata": {
    "ExecuteTime": {
     "end_time": "2022-01-28T15:39:02.313682Z",
     "start_time": "2022-01-28T15:39:02.139768Z"
    },
    "hidden": true
   },
   "outputs": [],
   "source": [
    "df['month'] = pd.to_datetime (df['date']).dt.strftime('%m')\n",
    "df['date'] = pd.to_datetime (df['date'])"
   ]
  },
  {
   "cell_type": "code",
   "execution_count": 211,
   "id": "dbc862b9",
   "metadata": {
    "ExecuteTime": {
     "end_time": "2022-01-28T15:39:02.329709Z",
     "start_time": "2022-01-28T15:39:02.315687Z"
    },
    "hidden": true,
    "scrolled": true
   },
   "outputs": [],
   "source": [
    "df1 = df[['id', 'price']].copy()"
   ]
  },
  {
   "cell_type": "code",
   "execution_count": 212,
   "id": "3ec1903e",
   "metadata": {
    "ExecuteTime": {
     "end_time": "2022-01-28T15:39:02.439375Z",
     "start_time": "2022-01-28T15:39:02.420387Z"
    },
    "hidden": true
   },
   "outputs": [],
   "source": [
    "df1.rename(columns={'price': 'Preço da Compra', 'id': 'Imóvel Cod'}, inplace=True)"
   ]
  },
  {
   "cell_type": "code",
   "execution_count": 213,
   "id": "3978458c",
   "metadata": {
    "ExecuteTime": {
     "end_time": "2022-01-28T15:39:02.595693Z",
     "start_time": "2022-01-28T15:39:02.571706Z"
    },
    "hidden": true
   },
   "outputs": [],
   "source": [
    "df['Temporada'] = df['month'].apply( lambda x: 'winter' if x == '12' \n",
    "                                          else 'winter' if x == '01' \n",
    "                                          else 'winter' if x == '02'\n",
    "                                          else 'winter' if x == '03' \n",
    "                                          else 'summer' if x == '06' \n",
    "                                          else 'summer' if x == '07' \n",
    "                                          else 'summer' if x == '08'\n",
    "                                          else 'summer' if x == '09'\n",
    "                                          else 'spring' if x == '04'\n",
    "                                          else 'spring' if x == '05'\n",
    "                                          else 'fall' if x == '10'\n",
    "                                          else 'fall' if x == '11'\n",
    "                                          else 'NA'   )\n"
   ]
  },
  {
   "cell_type": "code",
   "execution_count": 214,
   "id": "2e900bb7",
   "metadata": {
    "ExecuteTime": {
     "end_time": "2022-01-28T15:39:02.734562Z",
     "start_time": "2022-01-28T15:39:02.707595Z"
    },
    "hidden": true
   },
   "outputs": [],
   "source": [
    "df2 = df[['price','zipcode', 'Temporada']].groupby(['zipcode', 'Temporada']).median().reset_index()"
   ]
  },
  {
   "cell_type": "code",
   "execution_count": 215,
   "id": "d78fcf5c",
   "metadata": {
    "ExecuteTime": {
     "end_time": "2022-01-28T15:39:02.860144Z",
     "start_time": "2022-01-28T15:39:02.844139Z"
    },
    "hidden": true
   },
   "outputs": [],
   "source": [
    "df3 = pd.concat([df1 , df2], axis = 1 , join = 'inner')"
   ]
  },
  {
   "cell_type": "code",
   "execution_count": 216,
   "id": "5e8c75d6",
   "metadata": {
    "ExecuteTime": {
     "end_time": "2022-01-28T15:39:03.112681Z",
     "start_time": "2022-01-28T15:39:03.004756Z"
    },
    "hidden": true
   },
   "outputs": [],
   "source": [
    "for i in range (len( df3 )):\n",
    "    if (df3.loc[i, 'Preço da Compra']) > (df3.loc[i, 'price']): \n",
    "        df3.loc[i, 'Preço de Venda'] = df3.loc[i, 'Preço da Compra'] * 1.10\n",
    "    \n",
    "    elif (df3.loc[i, 'Preço da Compra']) < (df3.loc[i, 'price']): \n",
    "        df3.loc[i, 'Preço de Venda'] = df3.loc[i, 'Preço da Compra'] * 1.30\n",
    "    \n",
    "    else: 'NA'\n",
    "    "
   ]
  },
  {
   "cell_type": "code",
   "execution_count": 217,
   "id": "740abee1",
   "metadata": {
    "ExecuteTime": {
     "end_time": "2022-01-28T15:39:03.644509Z",
     "start_time": "2022-01-28T15:39:03.636506Z"
    },
    "hidden": true
   },
   "outputs": [],
   "source": [
    "df3['Lucro'] = df3['Preço de Venda'] - df3['Preço da Compra']"
   ]
  },
  {
   "cell_type": "code",
   "execution_count": 218,
   "id": "870ad329",
   "metadata": {
    "ExecuteTime": {
     "end_time": "2022-01-28T15:39:04.179363Z",
     "start_time": "2022-01-28T15:39:04.173366Z"
    },
    "hidden": true
   },
   "outputs": [],
   "source": [
    "df3.rename (columns = {'zipcode': 'Zipcode', 'price':'Mediana De Preços'}, inplace = True)"
   ]
  },
  {
   "cell_type": "code",
   "execution_count": 219,
   "id": "68f7d89a",
   "metadata": {
    "ExecuteTime": {
     "end_time": "2022-01-28T15:39:05.596803Z",
     "start_time": "2022-01-28T15:39:05.580798Z"
    },
    "hidden": true
   },
   "outputs": [
    {
     "data": {
      "text/html": [
       "<div>\n",
       "<style scoped>\n",
       "    .dataframe tbody tr th:only-of-type {\n",
       "        vertical-align: middle;\n",
       "    }\n",
       "\n",
       "    .dataframe tbody tr th {\n",
       "        vertical-align: top;\n",
       "    }\n",
       "\n",
       "    .dataframe thead th {\n",
       "        text-align: right;\n",
       "    }\n",
       "</style>\n",
       "<table border=\"1\" class=\"dataframe\">\n",
       "  <thead>\n",
       "    <tr style=\"text-align: right;\">\n",
       "      <th></th>\n",
       "      <th>Imóvel Cod</th>\n",
       "      <th>Preço da Compra</th>\n",
       "      <th>Zipcode</th>\n",
       "      <th>Temporada</th>\n",
       "      <th>Mediana De Preços</th>\n",
       "      <th>Preço de Venda</th>\n",
       "      <th>Lucro</th>\n",
       "    </tr>\n",
       "  </thead>\n",
       "  <tbody>\n",
       "    <tr>\n",
       "      <th>0</th>\n",
       "      <td>7129300520</td>\n",
       "      <td>221900.0</td>\n",
       "      <td>98001</td>\n",
       "      <td>fall</td>\n",
       "      <td>243975.0</td>\n",
       "      <td>288470.0</td>\n",
       "      <td>66570.0</td>\n",
       "    </tr>\n",
       "    <tr>\n",
       "      <th>1</th>\n",
       "      <td>6414100192</td>\n",
       "      <td>538000.0</td>\n",
       "      <td>98001</td>\n",
       "      <td>spring</td>\n",
       "      <td>267000.0</td>\n",
       "      <td>591800.0</td>\n",
       "      <td>53800.0</td>\n",
       "    </tr>\n",
       "    <tr>\n",
       "      <th>2</th>\n",
       "      <td>5631500400</td>\n",
       "      <td>180000.0</td>\n",
       "      <td>98001</td>\n",
       "      <td>summer</td>\n",
       "      <td>260000.0</td>\n",
       "      <td>234000.0</td>\n",
       "      <td>54000.0</td>\n",
       "    </tr>\n",
       "    <tr>\n",
       "      <th>3</th>\n",
       "      <td>2487200875</td>\n",
       "      <td>604000.0</td>\n",
       "      <td>98001</td>\n",
       "      <td>winter</td>\n",
       "      <td>258000.0</td>\n",
       "      <td>664400.0</td>\n",
       "      <td>60400.0</td>\n",
       "    </tr>\n",
       "    <tr>\n",
       "      <th>4</th>\n",
       "      <td>1954400510</td>\n",
       "      <td>510000.0</td>\n",
       "      <td>98002</td>\n",
       "      <td>fall</td>\n",
       "      <td>234000.0</td>\n",
       "      <td>561000.0</td>\n",
       "      <td>51000.0</td>\n",
       "    </tr>\n",
       "    <tr>\n",
       "      <th>...</th>\n",
       "      <td>...</td>\n",
       "      <td>...</td>\n",
       "      <td>...</td>\n",
       "      <td>...</td>\n",
       "      <td>...</td>\n",
       "      <td>...</td>\n",
       "      <td>...</td>\n",
       "    </tr>\n",
       "    <tr>\n",
       "      <th>275</th>\n",
       "      <td>4215100060</td>\n",
       "      <td>365000.0</td>\n",
       "      <td>98198</td>\n",
       "      <td>winter</td>\n",
       "      <td>275000.0</td>\n",
       "      <td>401500.0</td>\n",
       "      <td>36500.0</td>\n",
       "    </tr>\n",
       "    <tr>\n",
       "      <th>276</th>\n",
       "      <td>9189700045</td>\n",
       "      <td>450000.0</td>\n",
       "      <td>98199</td>\n",
       "      <td>fall</td>\n",
       "      <td>637500.0</td>\n",
       "      <td>585000.0</td>\n",
       "      <td>135000.0</td>\n",
       "    </tr>\n",
       "    <tr>\n",
       "      <th>277</th>\n",
       "      <td>1126049053</td>\n",
       "      <td>770000.0</td>\n",
       "      <td>98199</td>\n",
       "      <td>spring</td>\n",
       "      <td>709000.0</td>\n",
       "      <td>847000.0</td>\n",
       "      <td>77000.0</td>\n",
       "    </tr>\n",
       "    <tr>\n",
       "      <th>278</th>\n",
       "      <td>2022069200</td>\n",
       "      <td>455000.0</td>\n",
       "      <td>98199</td>\n",
       "      <td>summer</td>\n",
       "      <td>720000.0</td>\n",
       "      <td>591500.0</td>\n",
       "      <td>136500.0</td>\n",
       "    </tr>\n",
       "    <tr>\n",
       "      <th>279</th>\n",
       "      <td>9412900055</td>\n",
       "      <td>405000.0</td>\n",
       "      <td>98199</td>\n",
       "      <td>winter</td>\n",
       "      <td>650000.0</td>\n",
       "      <td>526500.0</td>\n",
       "      <td>121500.0</td>\n",
       "    </tr>\n",
       "  </tbody>\n",
       "</table>\n",
       "<p>280 rows × 7 columns</p>\n",
       "</div>"
      ],
      "text/plain": [
       "     Imóvel Cod  Preço da Compra  Zipcode Temporada  Mediana De Preços  \\\n",
       "0    7129300520         221900.0    98001      fall           243975.0   \n",
       "1    6414100192         538000.0    98001    spring           267000.0   \n",
       "2    5631500400         180000.0    98001    summer           260000.0   \n",
       "3    2487200875         604000.0    98001    winter           258000.0   \n",
       "4    1954400510         510000.0    98002      fall           234000.0   \n",
       "..          ...              ...      ...       ...                ...   \n",
       "275  4215100060         365000.0    98198    winter           275000.0   \n",
       "276  9189700045         450000.0    98199      fall           637500.0   \n",
       "277  1126049053         770000.0    98199    spring           709000.0   \n",
       "278  2022069200         455000.0    98199    summer           720000.0   \n",
       "279  9412900055         405000.0    98199    winter           650000.0   \n",
       "\n",
       "     Preço de Venda     Lucro  \n",
       "0          288470.0   66570.0  \n",
       "1          591800.0   53800.0  \n",
       "2          234000.0   54000.0  \n",
       "3          664400.0   60400.0  \n",
       "4          561000.0   51000.0  \n",
       "..              ...       ...  \n",
       "275        401500.0   36500.0  \n",
       "276        585000.0  135000.0  \n",
       "277        847000.0   77000.0  \n",
       "278        591500.0  136500.0  \n",
       "279        526500.0  121500.0  \n",
       "\n",
       "[280 rows x 7 columns]"
      ]
     },
     "execution_count": 219,
     "metadata": {},
     "output_type": "execute_result"
    }
   ],
   "source": [
    "df3"
   ]
  },
  {
   "cell_type": "code",
   "execution_count": null,
   "id": "5722129f",
   "metadata": {
    "hidden": true
   },
   "outputs": [],
   "source": []
  }
 ],
 "metadata": {
  "kernelspec": {
   "display_name": "Python 3 (ipykernel)",
   "language": "python",
   "name": "python3"
  },
  "language_info": {
   "codemirror_mode": {
    "name": "ipython",
    "version": 3
   },
   "file_extension": ".py",
   "mimetype": "text/x-python",
   "name": "python",
   "nbconvert_exporter": "python",
   "pygments_lexer": "ipython3",
   "version": "3.9.7"
  }
 },
 "nbformat": 4,
 "nbformat_minor": 5
}
