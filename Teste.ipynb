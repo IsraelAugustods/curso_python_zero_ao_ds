{
 "cells": [
  {
   "cell_type": "code",
   "execution_count": null,
   "id": "e45e4920",
   "metadata": {
    "ExecuteTime": {
     "start_time": "2022-01-08T23:16:24.228Z"
    }
   },
   "outputs": [],
   "source": [
    "import pandas as pd \n",
    "df = pd.read_csv ('datasets/kc_house_data.csv')\n",
    "from geopy.geocoders import Nominatim \n",
    "\n",
    "geolocator = Nominatim (user_agent = 'geoapiExercises')\n",
    "\n",
    "\n",
    "query = '47.5112 ,-122.257'\n",
    "\n",
    "\n",
    "response = geolocator.reverse( query )\n",
    "\n",
    "\n"
   ]
  },
  {
   "cell_type": "code",
   "execution_count": null,
   "id": "12779a62",
   "metadata": {
    "ExecuteTime": {
     "start_time": "2022-01-08T23:16:24.838Z"
    }
   },
   "outputs": [],
   "source": [
    "df['query'] = df[['lat', 'long']].apply (lambda x:  str( x ['lat']) + ',' + str (x ['long'] ), axis = 1 ) "
   ]
  },
  {
   "cell_type": "code",
   "execution_count": null,
   "id": "b541b23e",
   "metadata": {
    "ExecuteTime": {
     "start_time": "2022-01-08T23:16:30.394Z"
    }
   },
   "outputs": [],
   "source": [
    "import time \n",
    "from multiprocessing import Pool "
   ]
  },
  {
   "cell_type": "code",
   "execution_count": null,
   "id": "cfb2f21f",
   "metadata": {
    "ExecuteTime": {
     "start_time": "2022-01-08T23:16:31.407Z"
    }
   },
   "outputs": [],
   "source": [
    "import defs\n",
    "\n",
    "df1 = df[['id', 'query']]\n",
    "\n",
    "p = Pool (3)\n",
    "start = time.process_time\n",
    "\n",
    "df1[['place_id', 'osm_type', 'country', 'country_code']] = p.map (defs.get_data , df1.iterrows() ) \n",
    "\n",
    "end = time.process_time()\n",
    "\n",
    "print ('Time Elapsed: {}', end - start )"
   ]
  },
  {
   "cell_type": "code",
   "execution_count": null,
   "id": "32a0d2c3",
   "metadata": {},
   "outputs": [],
   "source": [
    "df1"
   ]
  },
  {
   "cell_type": "code",
   "execution_count": null,
   "id": "601048d7",
   "metadata": {},
   "outputs": [],
   "source": []
  },
  {
   "cell_type": "code",
   "execution_count": null,
   "id": "6fd245e3",
   "metadata": {},
   "outputs": [],
   "source": []
  },
  {
   "cell_type": "code",
   "execution_count": null,
   "id": "7a214f25",
   "metadata": {},
   "outputs": [],
   "source": []
  },
  {
   "cell_type": "code",
   "execution_count": null,
   "id": "29374461",
   "metadata": {},
   "outputs": [],
   "source": []
  },
  {
   "cell_type": "code",
   "execution_count": null,
   "id": "47c87fcf",
   "metadata": {},
   "outputs": [],
   "source": []
  }
 ],
 "metadata": {
  "kernelspec": {
   "display_name": "Python 3 (ipykernel)",
   "language": "python",
   "name": "python3"
  },
  "language_info": {
   "codemirror_mode": {
    "name": "ipython",
    "version": 3
   },
   "file_extension": ".py",
   "mimetype": "text/x-python",
   "name": "python",
   "nbconvert_exporter": "python",
   "pygments_lexer": "ipython3",
   "version": "3.9.7"
  }
 },
 "nbformat": 4,
 "nbformat_minor": 5
}
