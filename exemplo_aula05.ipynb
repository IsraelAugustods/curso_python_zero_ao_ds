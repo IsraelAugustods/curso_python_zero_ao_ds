{
 "cells": [
  {
   "cell_type": "code",
   "execution_count": 1,
   "id": "d2b5baf6",
   "metadata": {
    "ExecuteTime": {
     "end_time": "2022-01-21T20:50:26.194304Z",
     "start_time": "2022-01-21T20:50:24.786644Z"
    }
   },
   "outputs": [],
   "source": [
    "import pandas as pd \n",
    "import numpy as np "
   ]
  },
  {
   "cell_type": "code",
   "execution_count": 2,
   "id": "9abb7ec7",
   "metadata": {
    "ExecuteTime": {
     "end_time": "2022-01-21T20:50:38.845790Z",
     "start_time": "2022-01-21T20:50:38.831812Z"
    },
    "scrolled": true
   },
   "outputs": [],
   "source": [
    "def show_dimensions (df):\n",
    "        \n",
    "        print( 'Number of rows: {}'.format(df.shape[0],end= '\\n\\n') )\n",
    "        print( 'Number of columns: {}'.format(df.shape [1]) )\n",
    "        \n",
    "        return None\n"
   ]
  },
  {
   "cell_type": "code",
   "execution_count": 3,
   "id": "3a511880",
   "metadata": {
    "ExecuteTime": {
     "end_time": "2022-01-21T20:50:39.217408Z",
     "start_time": "2022-01-21T20:50:39.199381Z"
    }
   },
   "outputs": [],
   "source": [
    "def show_dtypes (df):\n",
    "    \n",
    "    t = df.dtypes\n",
    "    \n",
    "    return t\n",
    "    "
   ]
  },
  {
   "cell_type": "code",
   "execution_count": 4,
   "id": "437b45be",
   "metadata": {
    "ExecuteTime": {
     "end_time": "2022-01-21T20:50:41.649182Z",
     "start_time": "2022-01-21T20:50:41.559495Z"
    }
   },
   "outputs": [],
   "source": [
    "df = pd.read_csv ('datasets/kc_house_data.csv')"
   ]
  },
  {
   "cell_type": "code",
   "execution_count": 41,
   "id": "2c262c09",
   "metadata": {
    "ExecuteTime": {
     "end_time": "2022-01-14T03:33:17.062737Z",
     "start_time": "2022-01-14T03:33:17.052732Z"
    }
   },
   "outputs": [],
   "source": [
    "# show_dtypes (df)"
   ]
  },
  {
   "cell_type": "code",
   "execution_count": 42,
   "id": "4056cc13",
   "metadata": {
    "ExecuteTime": {
     "end_time": "2022-01-14T03:33:17.454734Z",
     "start_time": "2022-01-14T03:33:17.436730Z"
    }
   },
   "outputs": [
    {
     "name": "stdout",
     "output_type": "stream",
     "text": [
      "Number of rows: 21613\n",
      "Number of columns: 21\n"
     ]
    }
   ],
   "source": [
    "show_dimensions (df)"
   ]
  },
  {
   "cell_type": "code",
   "execution_count": 25,
   "id": "2a4586c1",
   "metadata": {
    "ExecuteTime": {
     "end_time": "2022-01-14T03:21:38.560380Z",
     "start_time": "2022-01-14T03:21:38.537974Z"
    }
   },
   "outputs": [],
   "source": [
    "df['date'] = pd.to_datetime( df['date'])"
   ]
  },
  {
   "cell_type": "code",
   "execution_count": 26,
   "id": "0c31b48e",
   "metadata": {
    "ExecuteTime": {
     "end_time": "2022-01-14T03:21:39.064944Z",
     "start_time": "2022-01-14T03:21:39.056935Z"
    }
   },
   "outputs": [],
   "source": [
    "# show_dtypes (df)"
   ]
  },
  {
   "cell_type": "code",
   "execution_count": 27,
   "id": "4b17434d",
   "metadata": {
    "ExecuteTime": {
     "end_time": "2022-01-14T03:21:39.600818Z",
     "start_time": "2022-01-14T03:21:39.580829Z"
    }
   },
   "outputs": [],
   "source": [
    "num_attributes = df.select_dtypes(include = ['int64', 'float64'])"
   ]
  },
  {
   "cell_type": "code",
   "execution_count": 28,
   "id": "79f1919c",
   "metadata": {
    "ExecuteTime": {
     "end_time": "2022-01-14T03:21:40.211218Z",
     "start_time": "2022-01-14T03:21:40.180471Z"
    }
   },
   "outputs": [],
   "source": [
    "pd.set_option('display.float_format', lambda x: '%.3f' % x)\n",
    "\n",
    "mean =   pd.DataFrame (num_attributes.apply( np.mean, axis = 0) )\n",
    "median = pd.DataFrame (num_attributes.apply( np.median, axis = 0 ) )\n",
    "max_ =   pd.DataFrame (num_attributes.apply( np.max, axis = 0 ) )\n",
    "min_ =   pd.DataFrame (num_attributes.apply( np.min , axis = 0) )\n",
    "std =   pd.DataFrame (num_attributes.apply(  np.std , axis = 0)  )                     \n",
    "\n",
    "df1 = pd.concat([mean, median, max_, min_, std], axis = 1).reset_index()\n",
    "df1.columns = ['attributes', 'mean', 'median', 'maximo', 'minimo', 'std'] "
   ]
  },
  {
   "cell_type": "code",
   "execution_count": 29,
   "id": "2ec6a685",
   "metadata": {
    "ExecuteTime": {
     "end_time": "2022-01-14T03:21:41.299660Z",
     "start_time": "2022-01-14T03:21:41.289667Z"
    }
   },
   "outputs": [],
   "source": [
    "df['dormitory_type'] = df['bedrooms'].apply (lambda x: 'studio' if x == 1 \n",
    "                                             else 'apartament' if x == 2 \n",
    "                                             else 'house')"
   ]
  },
  {
   "cell_type": "code",
   "execution_count": 47,
   "id": "712098f0",
   "metadata": {
    "ExecuteTime": {
     "end_time": "2022-01-14T03:34:12.597172Z",
     "start_time": "2022-01-14T03:34:12.590164Z"
    }
   },
   "outputs": [
    {
     "name": "stdout",
     "output_type": "stream",
     "text": [
      "Number of rows: 21613\n",
      "Number of columns: 21\n"
     ]
    }
   ],
   "source": [
    "show_dimensions (df)"
   ]
  },
  {
   "cell_type": "code",
   "execution_count": 9,
   "id": "351cee85",
   "metadata": {
    "ExecuteTime": {
     "end_time": "2022-01-21T20:51:49.544359Z",
     "start_time": "2022-01-21T20:51:49.519372Z"
    }
   },
   "outputs": [
    {
     "data": {
      "text/html": [
       "<div>\n",
       "<style scoped>\n",
       "    .dataframe tbody tr th:only-of-type {\n",
       "        vertical-align: middle;\n",
       "    }\n",
       "\n",
       "    .dataframe tbody tr th {\n",
       "        vertical-align: top;\n",
       "    }\n",
       "\n",
       "    .dataframe thead th {\n",
       "        text-align: right;\n",
       "    }\n",
       "</style>\n",
       "<table border=\"1\" class=\"dataframe\">\n",
       "  <thead>\n",
       "    <tr style=\"text-align: right;\">\n",
       "      <th></th>\n",
       "      <th>bathrooms</th>\n",
       "      <th>bedrooms</th>\n",
       "    </tr>\n",
       "  </thead>\n",
       "  <tbody>\n",
       "    <tr>\n",
       "      <th>0</th>\n",
       "      <td>1.00</td>\n",
       "      <td>3</td>\n",
       "    </tr>\n",
       "    <tr>\n",
       "      <th>1</th>\n",
       "      <td>2.25</td>\n",
       "      <td>3</td>\n",
       "    </tr>\n",
       "    <tr>\n",
       "      <th>2</th>\n",
       "      <td>1.00</td>\n",
       "      <td>2</td>\n",
       "    </tr>\n",
       "    <tr>\n",
       "      <th>3</th>\n",
       "      <td>3.00</td>\n",
       "      <td>4</td>\n",
       "    </tr>\n",
       "    <tr>\n",
       "      <th>4</th>\n",
       "      <td>2.00</td>\n",
       "      <td>3</td>\n",
       "    </tr>\n",
       "    <tr>\n",
       "      <th>5</th>\n",
       "      <td>4.50</td>\n",
       "      <td>4</td>\n",
       "    </tr>\n",
       "    <tr>\n",
       "      <th>6</th>\n",
       "      <td>2.25</td>\n",
       "      <td>3</td>\n",
       "    </tr>\n",
       "    <tr>\n",
       "      <th>7</th>\n",
       "      <td>1.50</td>\n",
       "      <td>3</td>\n",
       "    </tr>\n",
       "    <tr>\n",
       "      <th>8</th>\n",
       "      <td>1.00</td>\n",
       "      <td>3</td>\n",
       "    </tr>\n",
       "    <tr>\n",
       "      <th>9</th>\n",
       "      <td>2.50</td>\n",
       "      <td>3</td>\n",
       "    </tr>\n",
       "    <tr>\n",
       "      <th>10</th>\n",
       "      <td>2.50</td>\n",
       "      <td>3</td>\n",
       "    </tr>\n",
       "    <tr>\n",
       "      <th>11</th>\n",
       "      <td>1.00</td>\n",
       "      <td>2</td>\n",
       "    </tr>\n",
       "    <tr>\n",
       "      <th>12</th>\n",
       "      <td>1.00</td>\n",
       "      <td>3</td>\n",
       "    </tr>\n",
       "    <tr>\n",
       "      <th>13</th>\n",
       "      <td>1.75</td>\n",
       "      <td>3</td>\n",
       "    </tr>\n",
       "    <tr>\n",
       "      <th>14</th>\n",
       "      <td>2.00</td>\n",
       "      <td>5</td>\n",
       "    </tr>\n",
       "    <tr>\n",
       "      <th>15</th>\n",
       "      <td>3.00</td>\n",
       "      <td>4</td>\n",
       "    </tr>\n",
       "    <tr>\n",
       "      <th>16</th>\n",
       "      <td>2.00</td>\n",
       "      <td>3</td>\n",
       "    </tr>\n",
       "    <tr>\n",
       "      <th>17</th>\n",
       "      <td>1.00</td>\n",
       "      <td>4</td>\n",
       "    </tr>\n",
       "    <tr>\n",
       "      <th>18</th>\n",
       "      <td>1.00</td>\n",
       "      <td>2</td>\n",
       "    </tr>\n",
       "    <tr>\n",
       "      <th>19</th>\n",
       "      <td>1.00</td>\n",
       "      <td>3</td>\n",
       "    </tr>\n",
       "    <tr>\n",
       "      <th>20</th>\n",
       "      <td>1.75</td>\n",
       "      <td>4</td>\n",
       "    </tr>\n",
       "    <tr>\n",
       "      <th>21</th>\n",
       "      <td>2.75</td>\n",
       "      <td>3</td>\n",
       "    </tr>\n",
       "    <tr>\n",
       "      <th>22</th>\n",
       "      <td>2.50</td>\n",
       "      <td>5</td>\n",
       "    </tr>\n",
       "    <tr>\n",
       "      <th>23</th>\n",
       "      <td>1.50</td>\n",
       "      <td>2</td>\n",
       "    </tr>\n",
       "    <tr>\n",
       "      <th>24</th>\n",
       "      <td>2.25</td>\n",
       "      <td>3</td>\n",
       "    </tr>\n",
       "    <tr>\n",
       "      <th>25</th>\n",
       "      <td>2.00</td>\n",
       "      <td>3</td>\n",
       "    </tr>\n",
       "    <tr>\n",
       "      <th>26</th>\n",
       "      <td>1.75</td>\n",
       "      <td>3</td>\n",
       "    </tr>\n",
       "    <tr>\n",
       "      <th>27</th>\n",
       "      <td>1.00</td>\n",
       "      <td>3</td>\n",
       "    </tr>\n",
       "    <tr>\n",
       "      <th>28</th>\n",
       "      <td>1.75</td>\n",
       "      <td>3</td>\n",
       "    </tr>\n",
       "    <tr>\n",
       "      <th>29</th>\n",
       "      <td>2.50</td>\n",
       "      <td>4</td>\n",
       "    </tr>\n",
       "    <tr>\n",
       "      <th>30</th>\n",
       "      <td>2.50</td>\n",
       "      <td>3</td>\n",
       "    </tr>\n",
       "    <tr>\n",
       "      <th>31</th>\n",
       "      <td>1.50</td>\n",
       "      <td>2</td>\n",
       "    </tr>\n",
       "    <tr>\n",
       "      <th>32</th>\n",
       "      <td>1.75</td>\n",
       "      <td>4</td>\n",
       "    </tr>\n",
       "    <tr>\n",
       "      <th>33</th>\n",
       "      <td>1.00</td>\n",
       "      <td>3</td>\n",
       "    </tr>\n",
       "    <tr>\n",
       "      <th>34</th>\n",
       "      <td>2.75</td>\n",
       "      <td>4</td>\n",
       "    </tr>\n",
       "    <tr>\n",
       "      <th>35</th>\n",
       "      <td>2.50</td>\n",
       "      <td>3</td>\n",
       "    </tr>\n",
       "    <tr>\n",
       "      <th>36</th>\n",
       "      <td>1.00</td>\n",
       "      <td>4</td>\n",
       "    </tr>\n",
       "    <tr>\n",
       "      <th>37</th>\n",
       "      <td>2.00</td>\n",
       "      <td>4</td>\n",
       "    </tr>\n",
       "    <tr>\n",
       "      <th>38</th>\n",
       "      <td>1.00</td>\n",
       "      <td>4</td>\n",
       "    </tr>\n",
       "    <tr>\n",
       "      <th>39</th>\n",
       "      <td>2.50</td>\n",
       "      <td>4</td>\n",
       "    </tr>\n",
       "    <tr>\n",
       "      <th>40</th>\n",
       "      <td>2.50</td>\n",
       "      <td>4</td>\n",
       "    </tr>\n",
       "    <tr>\n",
       "      <th>41</th>\n",
       "      <td>2.25</td>\n",
       "      <td>4</td>\n",
       "    </tr>\n",
       "    <tr>\n",
       "      <th>42</th>\n",
       "      <td>2.75</td>\n",
       "      <td>5</td>\n",
       "    </tr>\n",
       "    <tr>\n",
       "      <th>43</th>\n",
       "      <td>1.00</td>\n",
       "      <td>3</td>\n",
       "    </tr>\n",
       "    <tr>\n",
       "      <th>44</th>\n",
       "      <td>1.00</td>\n",
       "      <td>3</td>\n",
       "    </tr>\n",
       "    <tr>\n",
       "      <th>45</th>\n",
       "      <td>2.50</td>\n",
       "      <td>3</td>\n",
       "    </tr>\n",
       "    <tr>\n",
       "      <th>46</th>\n",
       "      <td>1.00</td>\n",
       "      <td>3</td>\n",
       "    </tr>\n",
       "    <tr>\n",
       "      <th>47</th>\n",
       "      <td>2.50</td>\n",
       "      <td>4</td>\n",
       "    </tr>\n",
       "    <tr>\n",
       "      <th>48</th>\n",
       "      <td>1.75</td>\n",
       "      <td>3</td>\n",
       "    </tr>\n",
       "    <tr>\n",
       "      <th>49</th>\n",
       "      <td>2.50</td>\n",
       "      <td>3</td>\n",
       "    </tr>\n",
       "    <tr>\n",
       "      <th>50</th>\n",
       "      <td>1.00</td>\n",
       "      <td>3</td>\n",
       "    </tr>\n",
       "    <tr>\n",
       "      <th>51</th>\n",
       "      <td>2.50</td>\n",
       "      <td>5</td>\n",
       "    </tr>\n",
       "    <tr>\n",
       "      <th>52</th>\n",
       "      <td>1.75</td>\n",
       "      <td>3</td>\n",
       "    </tr>\n",
       "    <tr>\n",
       "      <th>53</th>\n",
       "      <td>1.75</td>\n",
       "      <td>2</td>\n",
       "    </tr>\n",
       "    <tr>\n",
       "      <th>54</th>\n",
       "      <td>2.25</td>\n",
       "      <td>5</td>\n",
       "    </tr>\n",
       "    <tr>\n",
       "      <th>55</th>\n",
       "      <td>2.50</td>\n",
       "      <td>4</td>\n",
       "    </tr>\n",
       "    <tr>\n",
       "      <th>56</th>\n",
       "      <td>2.50</td>\n",
       "      <td>4</td>\n",
       "    </tr>\n",
       "    <tr>\n",
       "      <th>57</th>\n",
       "      <td>2.50</td>\n",
       "      <td>3</td>\n",
       "    </tr>\n",
       "    <tr>\n",
       "      <th>58</th>\n",
       "      <td>3.25</td>\n",
       "      <td>5</td>\n",
       "    </tr>\n",
       "    <tr>\n",
       "      <th>59</th>\n",
       "      <td>3.00</td>\n",
       "      <td>4</td>\n",
       "    </tr>\n",
       "  </tbody>\n",
       "</table>\n",
       "</div>"
      ],
      "text/plain": [
       "    bathrooms  bedrooms\n",
       "0        1.00         3\n",
       "1        2.25         3\n",
       "2        1.00         2\n",
       "3        3.00         4\n",
       "4        2.00         3\n",
       "5        4.50         4\n",
       "6        2.25         3\n",
       "7        1.50         3\n",
       "8        1.00         3\n",
       "9        2.50         3\n",
       "10       2.50         3\n",
       "11       1.00         2\n",
       "12       1.00         3\n",
       "13       1.75         3\n",
       "14       2.00         5\n",
       "15       3.00         4\n",
       "16       2.00         3\n",
       "17       1.00         4\n",
       "18       1.00         2\n",
       "19       1.00         3\n",
       "20       1.75         4\n",
       "21       2.75         3\n",
       "22       2.50         5\n",
       "23       1.50         2\n",
       "24       2.25         3\n",
       "25       2.00         3\n",
       "26       1.75         3\n",
       "27       1.00         3\n",
       "28       1.75         3\n",
       "29       2.50         4\n",
       "30       2.50         3\n",
       "31       1.50         2\n",
       "32       1.75         4\n",
       "33       1.00         3\n",
       "34       2.75         4\n",
       "35       2.50         3\n",
       "36       1.00         4\n",
       "37       2.00         4\n",
       "38       1.00         4\n",
       "39       2.50         4\n",
       "40       2.50         4\n",
       "41       2.25         4\n",
       "42       2.75         5\n",
       "43       1.00         3\n",
       "44       1.00         3\n",
       "45       2.50         3\n",
       "46       1.00         3\n",
       "47       2.50         4\n",
       "48       1.75         3\n",
       "49       2.50         3\n",
       "50       1.00         3\n",
       "51       2.50         5\n",
       "52       1.75         3\n",
       "53       1.75         2\n",
       "54       2.25         5\n",
       "55       2.50         4\n",
       "56       2.50         4\n",
       "57       2.50         3\n",
       "58       3.25         5\n",
       "59       3.00         4"
      ]
     },
     "execution_count": 9,
     "metadata": {},
     "output_type": "execute_result"
    }
   ],
   "source": []
  },
  {
   "cell_type": "code",
   "execution_count": null,
   "id": "3c7e3c33",
   "metadata": {},
   "outputs": [],
   "source": []
  },
  {
   "cell_type": "code",
   "execution_count": null,
   "id": "d27cf0b5",
   "metadata": {},
   "outputs": [],
   "source": []
  },
  {
   "cell_type": "code",
   "execution_count": null,
   "id": "4ed15578",
   "metadata": {},
   "outputs": [],
   "source": []
  }
 ],
 "metadata": {
  "kernelspec": {
   "display_name": "Python 3 (ipykernel)",
   "language": "python",
   "name": "python3"
  },
  "language_info": {
   "codemirror_mode": {
    "name": "ipython",
    "version": 3
   },
   "file_extension": ".py",
   "mimetype": "text/x-python",
   "name": "python",
   "nbconvert_exporter": "python",
   "pygments_lexer": "ipython3",
   "version": "3.9.7"
  }
 },
 "nbformat": 4,
 "nbformat_minor": 5
}
