{
 "cells": [
  {
   "cell_type": "code",
   "execution_count": 1,
   "id": "ddaec68e",
   "metadata": {
    "ExecuteTime": {
     "end_time": "2022-01-20T23:48:57.212774Z",
     "start_time": "2022-01-20T23:48:55.842538Z"
    }
   },
   "outputs": [],
   "source": [
    "import pandas as pd\n",
    "\n",
    "data = pd.read_csv('datasets/kc_house_data.csv')\n"
   ]
  },
  {
   "cell_type": "markdown",
   "id": "fc546c06",
   "metadata": {
    "heading_collapsed": true
   },
   "source": [
    "# LISTA (Estrutura de dados) \n"
   ]
  },
  {
   "cell_type": "code",
   "execution_count": 27,
   "id": "f9dc1844",
   "metadata": {
    "ExecuteTime": {
     "end_time": "2022-01-01T21:09:59.229427Z",
     "start_time": "2022-01-01T21:09:59.217435Z"
    },
    "hidden": true
   },
   "outputs": [],
   "source": [
    "#Cada numero/string tem uma posição \n",
    "#a = [4, 7, 8, 4, 5, 6, 7] -> Valores \n",
    " #   [0, 1, 2, 3, 4, 5, 6] -> Posições\n",
    "\n",
    "\n",
    "#Lista numerica \n",
    "a = [11, 227, 334, 214,25, 16, 57]\n",
    "\n",
    "#Lista de strings\n",
    "v = ['a','z', 'x', 'q', 'h']\n",
    "\n",
    "#lista de strings + numeros \n",
    "b = ['a', 'b', 'c','d', 'e', [1, 2, 3 , 4, 'a', 'b', 'v']]"
   ]
  },
  {
   "cell_type": "code",
   "execution_count": 21,
   "id": "57a68082",
   "metadata": {
    "ExecuteTime": {
     "end_time": "2022-01-01T20:52:57.640698Z",
     "start_time": "2022-01-01T20:52:57.623708Z"
    },
    "hidden": true
   },
   "outputs": [],
   "source": [
    "#Como adicionar algo na lista (Existem duas formas)\n",
    "\n",
    "#Primeira forma, usando: (Sempre coloca em ultimo na lista)\n",
    "\n",
    "v.append ('x')\n",
    "\n",
    "\n",
    "#Segunda forma: (Entra em uma localização especifica)\n",
    "\n",
    "v.insert (5, 80)"
   ]
  },
  {
   "cell_type": "markdown",
   "id": "de89274f",
   "metadata": {
    "ExecuteTime": {
     "end_time": "2022-01-01T21:48:50.539368Z",
     "start_time": "2022-01-01T21:48:50.515382Z"
    },
    "heading_collapsed": true
   },
   "source": [
    "# ESTRUTURA DE CONTROLE - CONDICIONAL e LAÇO FOR"
   ]
  },
  {
   "cell_type": "code",
   "execution_count": null,
   "id": "21ef9e02",
   "metadata": {
    "ExecuteTime": {
     "end_time": "2022-01-01T21:15:15.352578Z",
     "start_time": "2022-01-01T21:15:15.334586Z"
    },
    "hidden": true
   },
   "outputs": [],
   "source": [
    "# Temos essas condiçoes:\n",
    "\n",
    "# Igual\n",
    "# Maior \n",
    "# Maior ou igual\n",
    "# Menor\n",
    "# Menor ou igual "
   ]
  },
  {
   "cell_type": "code",
   "execution_count": null,
   "id": "5646e87c",
   "metadata": {
    "hidden": true
   },
   "outputs": [],
   "source": [
    "# Logica E (AND) &\n",
    "# Logica de Multiplicação \n",
    "\n",
    "# TRUE & TRUE --> Resultado \n",
    "# data[(data['bedrooms'] == 4) & (data['floors'] == 2)] 1x1 = 1\n",
    "\n",
    "\n",
    "# TRUE & FALSE --> Erro \n",
    "# data[(data['bedrooms'] == 4) & (data['floors'] == 20)] 1x0 = 0\n",
    "\n",
    "\n",
    "# FALSE & TRUE --> Erro \n",
    "# data[(data['bedrooms'] == 40) & (data['floors'] == 2)] 0x1 = 0\n",
    "\n",
    "\n",
    "\n",
    "# FALSE & FALSE --> Erro \n",
    "# data[(data['bedrooms'] == 40) & (data['floors'] == 20)] 0x0 = 0 \n",
    "\n"
   ]
  },
  {
   "cell_type": "code",
   "execution_count": 59,
   "id": "5dc80d15",
   "metadata": {
    "ExecuteTime": {
     "end_time": "2022-01-01T22:04:05.531624Z",
     "start_time": "2022-01-01T22:04:05.527612Z"
    },
    "hidden": true
   },
   "outputs": [],
   "source": [
    "# Logica ou (OR) |\n",
    "# Logica de soma \n",
    "\n",
    "# TRUE | TRUE --> Resultado \n",
    "# data[(data['bedrooms'] == 4) | (data['floors'] == 2)] 1+1 = 2\n",
    "\n",
    "\n",
    "# TRUE | FALSE --> Resultado \n",
    "# data[(data['bedrooms'] == 4) | (data['floors'] == 20)] 1+0 = 1\n",
    "\n",
    "\n",
    "# FALSE | TRUE --> Resultado\n",
    "# data[(data['bedrooms'] == 40) | (data['floors'] == 2)] 0+1 = 1\n",
    "\n",
    "\n",
    "# FALSE | FALSE --> Erro \n",
    "# data[(data['bedrooms'] == 40) | (data['floors'] == 20)] 0+0 = 0 \n"
   ]
  },
  {
   "cell_type": "code",
   "execution_count": 66,
   "id": "efd1a6c7",
   "metadata": {
    "ExecuteTime": {
     "end_time": "2022-01-01T22:19:08.006321Z",
     "start_time": "2022-01-01T22:19:07.989319Z"
    },
    "hidden": true
   },
   "outputs": [],
   "source": [
    "# 1. Qual a quantidade de imóveis por nível?\n",
    "\n",
    "# - Nível 0 -> Preço entre R$ 0 e R$\n",
    "# 321.950\n",
    "\n",
    "# - Nível 1 -> Preço entre R$ 321.950 e\n",
    "# R$ 450.000\n",
    "\n",
    "# - Nível 2 -> Preço entre R$ 450.000 e R$ 645.000\n",
    "\n",
    "# - Nível 3 -> Acima de R$ 645.000\n"
   ]
  },
  {
   "cell_type": "code",
   "execution_count": 103,
   "id": "62d9186b",
   "metadata": {
    "ExecuteTime": {
     "end_time": "2022-01-01T23:19:09.878921Z",
     "start_time": "2022-01-01T23:19:09.872924Z"
    },
    "hidden": true
   },
   "outputs": [],
   "source": [
    "data['nivel'] = 'NA'\n"
   ]
  },
  {
   "cell_type": "code",
   "execution_count": 99,
   "id": "b3bfa066",
   "metadata": {
    "ExecuteTime": {
     "end_time": "2022-01-01T22:51:42.530620Z",
     "start_time": "2022-01-01T22:51:42.524623Z"
    },
    "hidden": true
   },
   "outputs": [],
   "source": [
    "# data.loc[data[(data['price'] >= 0) & (data['price'] < 321950)], 'nivel'] = 'nivel_0' \n",
    "# data.loc[data[(data['price'] >= 321950) & (data['price'] < 450000)], 'nivel'] = 'nivel_1' \n",
    "# data.loc[data[(data['price'] >= 450000) & (data['price'] < 645000)], 'nivel'] = 'nivel_2' \n",
    "# data.loc[data[data['price'] >= 645000], 'nivel'] = 'nivel_3' "
   ]
  },
  {
   "cell_type": "code",
   "execution_count": 133,
   "id": "d695d323",
   "metadata": {
    "ExecuteTime": {
     "end_time": "2022-01-01T23:38:30.052448Z",
     "start_time": "2022-01-01T23:38:19.487886Z"
    },
    "hidden": true
   },
   "outputs": [],
   "source": [
    "#LOOP FOR \n",
    "\n",
    "for i in range (len (data)):\n",
    "    \n",
    "    if (data.loc[i,'price'] > 0) & (data.loc[i,'price'] < 321950):\n",
    "        data.loc[i, 'nivel'] = 'nivel_0' \n",
    "        \n",
    "    elif (data.loc[i,'price'] > 321950) & (data.loc[i,'price'] < 450000):\n",
    "        data.loc[i, 'nivel'] = 'nivel_1'\n",
    "        \n",
    "     \n",
    "    elif (data.loc[i, 'price'] > 450000 ) & (data.loc[i,'price'] < 645000):\n",
    "        data.loc[i,'nivel'] = 'nivel_2'\n",
    "    \n",
    "    \n",
    "    else:\n",
    "        data.loc[i,'nivel'] = 'nivel_3'\n",
    "        \n",
    "        \n",
    "        \n",
    "       "
   ]
  },
  {
   "cell_type": "markdown",
   "id": "0a065eba",
   "metadata": {
    "ExecuteTime": {
     "end_time": "2022-01-01T23:38:32.958992Z",
     "start_time": "2022-01-01T23:38:32.940003Z"
    },
    "heading_collapsed": true
   },
   "source": [
    "# LAÇO WHILE "
   ]
  },
  {
   "cell_type": "code",
   "execution_count": 124,
   "id": "a4c57926",
   "metadata": {
    "ExecuteTime": {
     "end_time": "2022-01-02T22:49:19.067217Z",
     "start_time": "2022-01-02T22:49:19.059222Z"
    },
    "hidden": true
   },
   "outputs": [],
   "source": [
    "# import requests as r\n",
    "\n",
    "# i = 1 \n",
    "# dataset = pd.DataFrame()\n",
    "\n",
    "# while True:\n",
    "#     print('teams/{}' .format ( i ))\n",
    "\n",
    "# url = 'https://www.balldontlie.io/api/v1/teams/'.format (i)\n",
    "# response = r.request ('GET', url )\n",
    "\n",
    "# if response.json() != []:\n",
    "#     data = response.json()\n",
    "#     df = pd.DataFrame (data, index= [0])\n",
    "    \n",
    "#     dataset= pd.concat ([dataset, df],axis=0)\n",
    "    \n",
    "#     i = i + 1\n",
    "    \n",
    "# else:\n",
    "        \n",
    "#     break\n"
   ]
  },
  {
   "cell_type": "code",
   "execution_count": 125,
   "id": "b0f5538e",
   "metadata": {
    "ExecuteTime": {
     "end_time": "2022-01-02T22:49:25.621224Z",
     "start_time": "2022-01-02T22:49:25.616215Z"
    },
    "hidden": true
   },
   "outputs": [],
   "source": [
    "# df = pd.DataFrame (response.json(), index =[0])"
   ]
  },
  {
   "cell_type": "markdown",
   "id": "901d1605",
   "metadata": {
    "heading_collapsed": true
   },
   "source": [
    "# Respondendo as perguntas do CEO"
   ]
  },
  {
   "cell_type": "code",
   "execution_count": 2,
   "id": "694106e4",
   "metadata": {
    "ExecuteTime": {
     "end_time": "2022-01-04T22:33:21.907719Z",
     "start_time": "2022-01-04T22:33:21.844570Z"
    },
    "hidden": true
   },
   "outputs": [],
   "source": [
    "#2 Pergunta 2 \n",
    "\n",
    "import pandas as pd\n",
    "\n",
    "data = pd.read_csv('datasets/kc_house_data.csv')\n",
    "\n"
   ]
  },
  {
   "cell_type": "code",
   "execution_count": 3,
   "id": "7da45936",
   "metadata": {
    "ExecuteTime": {
     "end_time": "2022-01-04T22:33:22.456785Z",
     "start_time": "2022-01-04T22:33:22.277647Z"
    },
    "hidden": true
   },
   "outputs": [],
   "source": [
    "from geopy.geocoders import Nominatim "
   ]
  },
  {
   "cell_type": "code",
   "execution_count": 5,
   "id": "bf9f722e",
   "metadata": {
    "ExecuteTime": {
     "end_time": "2022-01-04T22:33:35.565289Z",
     "start_time": "2022-01-04T22:33:35.557295Z"
    },
    "code_folding": [],
    "hidden": true
   },
   "outputs": [],
   "source": [
    "\n",
    "#New Columns \n",
    "data['road'] = 'NA'\n",
    "data['house_number'] = 'NA'\n",
    "data['neighbourhood'] = 'NA'\n",
    "data['city'] = 'NA'\n",
    "data['county'] = 'NA'\n",
    "data['state'] = 'NA'\n",
    "\n",
    "\n",
    "geolocator = Nominatim (user_agent = 'geoapiExercises')\n",
    "\n",
    "\n",
    "for i in range ( len( data ) ): \n",
    "     \n",
    "    print('Loop: {} / {} '.format (i, len(data) ) )\n",
    "    \n",
    "    #Make query \n",
    "    query = str (data.loc[i, 'lat'])+ ',' +  str (data.loc[i, 'long'])\n",
    "    \n",
    "    \n",
    "    #API Request\n",
    "    response  = geolocator.reverse (query)\n",
    "    \n",
    "    \n",
    "    #Populate data\n",
    "    \n",
    "    if 'road' in response.raw['address']: \n",
    "        data.loc[i, 'road'] = response.raw['address']['road']\n",
    "  \n",
    "    if 'house_number' in response.raw['address']: \n",
    "        data.loc[i, 'house_number'] = response.raw['address']['house_number']\n",
    "\n",
    "    if 'neighbourhood' in response.raw['address']: \n",
    "        data.loc[i, 'neighbourhood'] = response.raw['address']['neighbourhood'] \n",
    "\n",
    "    if 'city' in response.raw['address']: \n",
    "        data.loc[i, 'city'] = response.raw['address']['city']\n",
    "\n",
    "    if 'county' in response.raw['address']: \n",
    "        data.loc[i, 'county'] = response.raw['address']['county']\n",
    "\n",
    "    if 'state' in response.raw['address']: \n",
    "        data.loc[i, 'state'] = response.raw['address']['state'] \n",
    "\n",
    "\n",
    "\n"
   ]
  },
  {
   "cell_type": "code",
   "execution_count": 7,
   "id": "b288cba2",
   "metadata": {
    "ExecuteTime": {
     "end_time": "2022-01-04T22:33:55.638607Z",
     "start_time": "2022-01-04T22:33:55.428179Z"
    },
    "hidden": true
   },
   "outputs": [],
   "source": [
    "import plotly.express as px"
   ]
  },
  {
   "cell_type": "code",
   "execution_count": 8,
   "id": "68b08c27",
   "metadata": {
    "ExecuteTime": {
     "end_time": "2022-01-04T22:33:55.794852Z",
     "start_time": "2022-01-04T22:33:55.784858Z"
    },
    "hidden": true
   },
   "outputs": [],
   "source": [
    "houses = data[['id', 'lat', 'long', 'price']].copy()"
   ]
  },
  {
   "cell_type": "code",
   "execution_count": 19,
   "id": "9c7814a7",
   "metadata": {
    "ExecuteTime": {
     "end_time": "2022-01-04T22:40:37.431294Z",
     "start_time": "2022-01-04T22:40:37.413305Z"
    },
    "hidden": true
   },
   "outputs": [],
   "source": [
    "\n",
    "# # for i in range (len(data)):\n",
    "    \n",
    "# #     if  houses.loc[i, 'price'] <= 321950:\n",
    "# #         houses.loc[i,  'level'] = 0\n",
    "        \n",
    "# #     elif (houses.loc [i , 'price'] > 321950) & (houses.loc [i, 'price'] <= 450000) :\n",
    "# #          houses.loc [i, 'level'] = 1\n",
    "        \n",
    "# #     elif (houses.loc [i, 'price'] > 450000) & (houses.loc [i, 'price'] <= 645000):\n",
    "# #         houses.loc [i, 'level'] = 2\n",
    "           \n",
    "# #     else: \n",
    "# #         houses.loc [i, 'level'] = 3\n",
    "        \n",
    "              \n",
    "\n",
    "# # houses['level'] = houses['level'].astype (int)\n",
    "\n",
    "fig = px.scatter_mapbox (houses,\n",
    "                   lat = 'lat',\n",
    "                   lon = 'long',\n",
    "                   color = 'level',\n",
    "                   size = 'price',\n",
    "                   color_continuous_scale = px.colors.cyclical.IceFire,\n",
    "                   size_max =15,\n",
    "                   zoom = 10)\n",
    "\n",
    "fig.update_layout(mapbox_style ='open-street-map')\n",
    "fig.update_layout(height= 600, margin = {'r':0, 't': 0, 'l':0, 'b':0})\n",
    "\n",
    "fig.show()"
   ]
  },
  {
   "cell_type": "markdown",
   "id": "f62dd57e",
   "metadata": {},
   "source": [
    "# MAPA "
   ]
  },
  {
   "cell_type": "code",
   "execution_count": 69,
   "id": "ac4735b5",
   "metadata": {
    "ExecuteTime": {
     "end_time": "2022-01-04T23:50:08.679763Z",
     "start_time": "2022-01-04T23:50:08.614469Z"
    }
   },
   "outputs": [],
   "source": [
    "df = pd.read_csv ('datasets/kc_house_data.csv')\n",
    "import ipywidgets as widgets \n",
    "from ipywidgets import fixed"
   ]
  },
  {
   "cell_type": "code",
   "execution_count": 34,
   "id": "1a81c756",
   "metadata": {
    "ExecuteTime": {
     "end_time": "2022-01-07T21:51:56.369107Z",
     "start_time": "2022-01-07T21:51:56.311075Z"
    },
    "code_folding": []
   },
   "outputs": [],
   "source": [
    "df ['is_waterfront'] = df['waterfront'].apply(lambda x: 'yes' if x == 1\n",
    "                                                      else 'no')\n",
    "df ['level'] = df['price'].apply(lambda x: 0 if x <= 321950 \n",
    "                                 else 1 if (x > 321950 ) & (x <= 450000)\n",
    "                                 else 2 if (x > 450000)  & (x <= 645000) \n",
    "                                 else 3 )\n",
    "\n",
    "df['level'] = df['level'].astype(int)\n",
    "\n",
    "style = {'descripition_width': 'initial'}\n",
    "\n",
    "#Interative Butoons 1\n",
    "\n",
    "price_limit = widgets.IntSlider(\n",
    "value = 540000,\n",
    "min=75000, \n",
    "max=7700000, \n",
    "step = 1, \n",
    "description = 'Maximum Price',\n",
    "disable= False,\n",
    "orientation='horizontal',     \n",
    "style = style)\n",
    "\n",
    "#Interative Butoons 2\n",
    "\n",
    "waterfront_bar = widgets.Dropdown(\n",
    "options = df ['is_waterfront'].unique().tolist(), \n",
    "value = 'yes',\n",
    "descripition = 'Water View',\n",
    "disable = False)\n",
    "\n",
    "\n",
    "def update_map (df, waterfront, limit):\n",
    "    houses = df[(df['price'] <= limit ) & \n",
    "               (df['is_waterfront'] == waterfront)][['id', 'lat', 'long', 'price', 'level']] \n",
    "       \n",
    "    fig = px.scatter_mapbox (houses,\n",
    "                   lat = 'lat',\n",
    "                   lon = 'long',\n",
    "                   color = 'level',\n",
    "                   size = 'price',\n",
    "                   color_continuous_scale = px.colors.cyclical.IceFire,\n",
    "                   size_max =15,\n",
    "                   zoom = 10)\n",
    " \n",
    "    fig.update_layout(mapbox_style ='open-street-map')\n",
    "    fig.update_layout(height= 600, margin = {'r':0, 't': 0, 'l':0, 'b':0})\n",
    "    fig.show() \n"
   ]
  },
  {
   "cell_type": "code",
   "execution_count": 73,
   "id": "999dff18",
   "metadata": {
    "ExecuteTime": {
     "end_time": "2022-01-05T01:38:44.330325Z",
     "start_time": "2022-01-05T01:38:44.323330Z"
    }
   },
   "outputs": [],
   "source": [
    "# widgets.interactive (update_map, df=fixed(df), waterfront= waterfront_bar, limit= price_limit )"
   ]
  },
  {
   "cell_type": "markdown",
   "id": "f3def45b",
   "metadata": {
    "heading_collapsed": true
   },
   "source": [
    "#  DASHBOARD"
   ]
  },
  {
   "cell_type": "code",
   "execution_count": 102,
   "id": "85171d6f",
   "metadata": {
    "ExecuteTime": {
     "end_time": "2022-01-05T02:28:23.329104Z",
     "start_time": "2022-01-05T02:28:23.257347Z"
    },
    "hidden": true
   },
   "outputs": [],
   "source": [
    "import pandas as pd \n",
    "import seaborn as sns\n",
    "from matplotlib import gridspec\n",
    "from ipywidgets import fixed\n",
    "from matplotlib import pyplot as plt \n",
    "\n",
    "df = pd.read_csv ('datasets/kc_house_data.csv')"
   ]
  },
  {
   "cell_type": "code",
   "execution_count": 108,
   "id": "b6a9f244",
   "metadata": {
    "ExecuteTime": {
     "end_time": "2022-01-05T02:30:32.696552Z",
     "start_time": "2022-01-05T02:30:32.168769Z"
    },
    "hidden": true
   },
   "outputs": [],
   "source": [
    "#Trasnformar a data \n",
    "df['year'] = pd.to_datetime (df['date']).dt.strftime('%Y')\n",
    "df['date'] = pd.to_datetime (df['date']).dt.strftime('%Y-%m-%d')\n",
    "df['year_week'] = pd.to_datetime (df['date']).dt.strftime('%Y-%U')\n",
    "\n",
    "# Criando o botao, widgets \n",
    "\n",
    "date_limit = widgets.SelectionSlider(\n",
    "options = (df['date'].sort_values().unique().tolist()),\n",
    "value = '2014-12-01',\n",
    "description = 'Dísponivel',\n",
    "continuous_update=False, \n",
    "orienttion = 'horizontal',\n",
    "readout = True)\n",
    "\n",
    "\n",
    "def update_map (df, limit): \n",
    "    \n",
    "    df = df[df['date'] >= limit].copy()\n",
    "    \n",
    "    \n",
    "    fig = plt.figure (figsize =(25, 12))\n",
    "    specs = gridspec.GridSpec (nrows = 2, ncols =2, figure = fig)\n",
    "    \n",
    "    ax1 = fig.add_subplot (specs [0, :]) # First row\n",
    "    ax2 = fig.add_subplot (specs [1, 0]) # Second row and first column \n",
    "    ax3 = fig.add_subplot (specs [1, 1]) # Second row and second column \n",
    "    \n",
    "    by_year = df[['id', 'year']].groupby('year').sum().reset_index()\n",
    "    sns.barplot (x = 'year' , y= 'id', data = by_year, ax=ax1 )\n",
    "    \n",
    "    by_date = df[['id', 'date']].groupby('date').sum().reset_index()\n",
    "    sns.lineplot (x = 'date', y= 'id', data = by_date, ax=ax2 )\n",
    "    \n",
    "    by_year_week = df[['id', 'year_week']].groupby('year_week').sum().reset_index()\n",
    "    sns.barplot (x ='year_week', y='id' , data = by_year_week, ax=ax3 )\n",
    "    plt.xticks(rotation = 60)\n",
    "    \n",
    "    \n",
    "    "
   ]
  },
  {
   "cell_type": "code",
   "execution_count": 109,
   "id": "a86fb4e6",
   "metadata": {
    "ExecuteTime": {
     "end_time": "2022-01-05T02:30:36.021160Z",
     "start_time": "2022-01-05T02:30:33.705490Z"
    },
    "hidden": true
   },
   "outputs": [
    {
     "data": {
      "application/vnd.jupyter.widget-view+json": {
       "model_id": "7f714dfed4df4c84ac5052b4334ebe15",
       "version_major": 2,
       "version_minor": 0
      },
      "text/plain": [
       "interactive(children=(SelectionSlider(continuous_update=False, description='Dísponivel', index=212, options=('…"
      ]
     },
     "metadata": {},
     "output_type": "display_data"
    }
   ],
   "source": [
    "widgets.interactive (update_map, df=fixed(df), limit = date_limit)"
   ]
  },
  {
   "cell_type": "markdown",
   "id": "777a422f",
   "metadata": {
    "heading_collapsed": true
   },
   "source": [
    "# RESPONDENDO AS NOVAS PERGUNTAS DO CEO "
   ]
  },
  {
   "cell_type": "code",
   "execution_count": 92,
   "id": "b756ebae",
   "metadata": {
    "ExecuteTime": {
     "end_time": "2022-01-06T19:57:13.214824Z",
     "start_time": "2022-01-06T19:57:13.153193Z"
    },
    "hidden": true
   },
   "outputs": [],
   "source": [
    "import pandas as pd \n",
    "\n",
    "df = pd.read_csv ('datasets/kc_house_data.csv')"
   ]
  },
  {
   "cell_type": "code",
   "execution_count": 93,
   "id": "941d53b1",
   "metadata": {
    "ExecuteTime": {
     "end_time": "2022-01-06T19:57:13.561186Z",
     "start_time": "2022-01-06T19:57:13.529205Z"
    },
    "code_folding": [],
    "hidden": true
   },
   "outputs": [],
   "source": [
    "#1\n",
    "df ['level'] = df['price'].apply(lambda x: 0 if x <= 321950 \n",
    "                                             else  1 if (x > 321950) & (x <= 450000)\n",
    "                                             else 2 if (x > 450000) & (x <= 645000) else 3)\n",
    "\n",
    "mean_level = df[['price', 'level']].groupby('level').mean().reset_index()\n"
   ]
  },
  {
   "cell_type": "code",
   "execution_count": 94,
   "id": "f765bf84",
   "metadata": {
    "ExecuteTime": {
     "end_time": "2022-01-06T19:57:13.964860Z",
     "start_time": "2022-01-06T19:57:13.929876Z"
    },
    "hidden": true
   },
   "outputs": [],
   "source": [
    "#2 \n",
    "df['size'] = df['sqft_living'].apply(lambda x: 0 if x <= 1427 \n",
    "                                          else 1 if (x > 1427) & (x <= 1910) \n",
    "                                          else 2 if (x > 1910) & (x <= 2550) else 3 )   \n",
    "\n",
    "mean_size = df[['sqft_living', 'size']].groupby('size').mean().reset_index()"
   ]
  },
  {
   "cell_type": "code",
   "execution_count": 106,
   "id": "f9ae3f99",
   "metadata": {
    "ExecuteTime": {
     "end_time": "2022-01-06T20:03:52.327455Z",
     "start_time": "2022-01-06T20:03:52.316447Z"
    },
    "hidden": true
   },
   "outputs": [],
   "source": [
    "#3 \n",
    "import pandas as pd \n",
    "df = pd.read_csv ('datasets/kc_house_data.csv')\n",
    "from geopy.geocoders import Nominatim \n",
    "\n",
    "#News columns \n",
    "df['place_id'] = 'NA'\n",
    "df['osm_type'] = 'NA'\n",
    "df['country'] = 'NA'\n",
    "df['country_code'] ='NA'\n",
    "\n",
    "geolocator = Nominatim (user_agent = 'geoapiExercises')\n",
    "\n",
    "#Polute the new columns \n",
    "\n",
    "for i in range (len( df )):\n",
    "     \n",
    "    print('Loop: {} / {} '.format (i, len (df) ) )\n",
    "    \n",
    "    query = str (df.loc[i, 'lat'])+ ',' +  str (df.loc[i, 'long'])\n",
    "    \n",
    "    response = geolocator.reverse(query)\n",
    "    \n",
    "    if 'place_id'in response.raw:\n",
    "        df.loc [i, 'place_id'] = response.raw['place_id']\n",
    "\n",
    "    if 'osm_type'in response.raw:\n",
    "        df.loc[i, 'osm_type'] = response.raw['osm_type'] \n",
    "    \n",
    "     \n",
    "    if 'country'in response.raw['address']:\n",
    "        df.loc [i, 'country'] = response.raw['address']['country'] \n",
    "    \n",
    "    \n",
    "    if 'country_code'in response.raw['address']:\n",
    "        df.loc[i,'country_code'] = response.raw['address']['country_code']   \n",
    "    \n"
   ]
  },
  {
   "cell_type": "code",
   "execution_count": 43,
   "id": "755dd3d1",
   "metadata": {
    "ExecuteTime": {
     "end_time": "2022-01-08T23:30:07.151839Z",
     "start_time": "2022-01-08T23:30:07.033907Z"
    },
    "code_folding": [],
    "hidden": true
   },
   "outputs": [],
   "source": [
    "#4 \n",
    "import pandas as pd \n",
    "df = pd.read_csv ('datasets/kc_house_data.csv')\n",
    "import ipywidgets as widgets \n",
    "from ipywidgets import fixed\n",
    "import plotly.express as px\n",
    "\n",
    "\n",
    "df ['level'] = df['price'].apply(lambda x: 0 if x <= 321950 \n",
    "                                             else  1 if (x > 321950) & (x <= 450000)\n",
    "                                             else 2 if (x > 450000) & (x <= 645000) else 3)\n",
    "\n",
    "style1 = {'descripition_width': 'initial'}\n",
    "\n",
    "#First Button \n",
    "min_living = widgets.IntSlider( \n",
    "\n",
    "value = 7288,\n",
    "min =290,\n",
    "max = 13540 ,    \n",
    "descripition = 'Minimo do living',\n",
    "disabled = False,\n",
    "style = style1)    \n",
    "\n",
    "#Second Button\n",
    "\n",
    "min_bathrooms = widgets.IntSlider(\n",
    "\n",
    "value = 4,\n",
    "min = 0,\n",
    "max= 8.0,\n",
    "description = 'Minimo de Banheiros',\n",
    "disable = False,\n",
    "style = style1)\n",
    "\n",
    "\n",
    "#Third Button \n",
    "\n",
    "max_price = widgets.IntSlider(\n",
    "\n",
    "value = 3681045,\n",
    "min = 75000,\n",
    "max= 7700000,\n",
    "description = 'Maximo de Preço',\n",
    "disable = False,\n",
    "style = style1,\n",
    "step = 1,\n",
    "orientation = 'vertical')\n",
    "\n",
    "#Fourth button \n",
    "\n",
    "max_basement = widgets.IntSlider(\n",
    "\n",
    "value = 2370,\n",
    "min = 0,\n",
    "max= 4820,\n",
    "description = 'Maximo de Basement',\n",
    "disable = False,\n",
    "style = style1,\n",
    "orientation = 'horizontal')\n",
    "\n",
    "\n",
    "# Five Button \n",
    "\n",
    "condition_types = widgets.Dropdown (\n",
    "options= df['condition'].unique().tolist(),\n",
    "value= 1,\n",
    "description='Condição do Imovel:',\n",
    "disabled=False)\n",
    "\n",
    " #Sixth Button  \n",
    "    \n",
    "yearbuilt = widgets.IntSlider(\n",
    "\n",
    "value = 2370,\n",
    "min = 1900,\n",
    "max= 2015,\n",
    "description = 'Ano de Construção',\n",
    "disable = False,\n",
    "style = style1,\n",
    "orientation = 'vertical')\n",
    "\n",
    "\n",
    "def update_map (df, limit, limitliving, limit_bathrooms, limit_basement, limit_condition, limit_yrbuilt ):\n",
    "    \n",
    "    houses = df[ (df['price'] <= limit) & (df['sqft_living'] <= limitliving)  & (df['bathrooms'] <= limit_bathrooms) & (df['sqft_basement'] <= limit_basement) & (df['condition'] <= limit_condition)    & (df['yr_built'] <= limit_yrbuilt)] [['id', 'lat', 'long', 'price', 'level']].copy() \n",
    "       \n",
    "    \n",
    "    fig = px.scatter_mapbox (houses,\n",
    "                   lat = 'lat',\n",
    "                   lon = 'long',\n",
    "                   color = 'level',\n",
    "                   size = 'price',\n",
    "                   color_continuous_scale = px.colors.cyclical.IceFire,\n",
    "                   size_max =15,\n",
    "                   zoom = 10)\n",
    "    fig.update_layout(mapbox_style ='open-street-map')\n",
    "    fig.update_layout(height= 600, margin = {'r':0, 't': 0, 'l':0, 'b':0})\n",
    "    fig.show() \n",
    " \n"
   ]
  },
  {
   "cell_type": "code",
   "execution_count": 45,
   "id": "d4b7e902",
   "metadata": {
    "ExecuteTime": {
     "end_time": "2022-01-08T23:31:29.373592Z",
     "start_time": "2022-01-08T23:31:29.357600Z"
    },
    "hidden": true
   },
   "outputs": [],
   "source": [
    "#  widgets.interactive (update_map, df= fixed(df), limitliving = min_living, limit_bathrooms = min_bathrooms\n",
    "#                     , limit_basement =max_basement, limit_condition = condition_types,  limit_yrbuilt= yearbuilt, limit = max_price ) "
   ]
  },
  {
   "cell_type": "markdown",
   "id": "1b31144f",
   "metadata": {
    "heading_collapsed": true
   },
   "source": [
    "# PARALELO"
   ]
  },
  {
   "cell_type": "code",
   "execution_count": 28,
   "id": "3b7af156",
   "metadata": {
    "ExecuteTime": {
     "end_time": "2022-01-08T22:59:49.135607Z",
     "start_time": "2022-01-08T22:59:48.104481Z"
    },
    "hidden": true
   },
   "outputs": [],
   "source": [
    "import pandas as pd \n",
    "df = pd.read_csv ('datasets/kc_house_data.csv')\n",
    "from geopy.geocoders import Nominatim \n",
    "\n",
    "geolocator = Nominatim (user_agent = 'geoapiExercises')\n",
    "\n",
    "\n",
    "query = '47.5112 ,-122.257'\n",
    "\n",
    "\n",
    "response = geolocator.reverse( query )\n"
   ]
  },
  {
   "cell_type": "code",
   "execution_count": 29,
   "id": "7d0dabe1",
   "metadata": {
    "ExecuteTime": {
     "end_time": "2022-01-08T22:59:49.497397Z",
     "start_time": "2022-01-08T22:59:49.143587Z"
    },
    "hidden": true
   },
   "outputs": [],
   "source": [
    "df['query'] = df[['lat', 'long']].apply (lambda x:  str( x ['lat']) + ',' + str (x ['long'] ), axis = 1 ) "
   ]
  },
  {
   "cell_type": "code",
   "execution_count": 30,
   "id": "7decbc55",
   "metadata": {
    "ExecuteTime": {
     "end_time": "2022-01-08T22:59:51.108381Z",
     "start_time": "2022-01-08T22:59:51.091391Z"
    },
    "hidden": true
   },
   "outputs": [],
   "source": [
    "import time \n",
    "from multiprocessing import Pool \n"
   ]
  },
  {
   "cell_type": "code",
   "execution_count": 26,
   "id": "a9edc069",
   "metadata": {
    "ExecuteTime": {
     "end_time": "2022-01-08T22:51:34.025879Z",
     "start_time": "2022-01-08T22:51:34.017879Z"
    },
    "hidden": true
   },
   "outputs": [],
   "source": [
    "# import time \n",
    "# from geopy.geocoders import Nominatim \n",
    "# geolocator = Nominatim (user_agent = (geopyExercises))\n",
    "\n",
    "# def get_data (x): \n",
    "#     index, row = x \n",
    "#     time.sleep (1)\n",
    "    \n",
    "#     #Chamada API\n",
    "#     response = geolocator.reverse( row ['query'] )\n",
    "#     address = response.raw['address']\n",
    "                 \n",
    "#     place_id = response.raw['place_id'] if 'place_id' in response.raw else 'NA'\n",
    "#     osm_type = response.raw['osm_type'] if 'osm_type' in response.raw else 'NA'\n",
    "#     country = address ['country']       if 'country' in address else 'NA'\n",
    "#     country_code = address ['country_code'] if 'country_code' in address else 'NA'\n",
    "    \n",
    "#     return place_id , osm_type, country, country_code\n",
    "    "
   ]
  },
  {
   "cell_type": "code",
   "execution_count": 37,
   "id": "2519b162",
   "metadata": {
    "ExecuteTime": {
     "end_time": "2022-01-08T23:19:26.298548Z",
     "start_time": "2022-01-08T23:19:26.288553Z"
    },
    "hidden": true
   },
   "outputs": [],
   "source": [
    "# import defs\n",
    "\n",
    "# df1 = df[['id', 'query']]\n",
    "\n",
    "# p = Pool (3)\n",
    "# start = time.process_time\n",
    "\n",
    "# df1[['place_id', 'osm_type', 'country', 'country_code']] = p.map (defs.get_data , df1.iterrows() ) \n",
    "\n",
    "# end = time.process_time()\n",
    "\n",
    "# print ('Time Elapsed: {}', end - start )"
   ]
  },
  {
   "cell_type": "code",
   "execution_count": null,
   "id": "3dc6eea5",
   "metadata": {
    "hidden": true
   },
   "outputs": [],
   "source": []
  },
  {
   "cell_type": "code",
   "execution_count": null,
   "id": "5839ba6e",
   "metadata": {
    "hidden": true
   },
   "outputs": [],
   "source": []
  },
  {
   "cell_type": "code",
   "execution_count": null,
   "id": "524d53b8",
   "metadata": {
    "hidden": true
   },
   "outputs": [],
   "source": []
  }
 ],
 "metadata": {
  "kernelspec": {
   "display_name": "Python 3 (ipykernel)",
   "language": "python",
   "name": "python3"
  },
  "language_info": {
   "codemirror_mode": {
    "name": "ipython",
    "version": 3
   },
   "file_extension": ".py",
   "mimetype": "text/x-python",
   "name": "python",
   "nbconvert_exporter": "python",
   "pygments_lexer": "ipython3",
   "version": "3.9.7"
  }
 },
 "nbformat": 4,
 "nbformat_minor": 5
}
