{
 "cells": [
  {
   "cell_type": "code",
   "execution_count": 1,
   "id": "cf3c9a29-a431-4523-ab2e-b575382cdb89",
   "metadata": {
    "execution": {
     "iopub.execute_input": "2024-01-01T19:35:33.842039Z",
     "iopub.status.busy": "2024-01-01T19:35:33.839938Z",
     "iopub.status.idle": "2024-01-01T19:35:34.304442Z",
     "shell.execute_reply": "2024-01-01T19:35:34.303196Z",
     "shell.execute_reply.started": "2024-01-01T19:35:33.841939Z"
    }
   },
   "outputs": [],
   "source": [
    "import pandas as pd\n",
    "from numpy import int64, int32\n",
    "data = pd.read_csv('datasets/kc_house_data.csv')\n",
    "data['date'] = pd.to_datetime(data['date'])"
   ]
  },
  {
   "cell_type": "code",
   "execution_count": 3,
   "id": "2dbf76e9-32e9-4a0d-930f-11a283ccb275",
   "metadata": {
    "execution": {
     "iopub.execute_input": "2024-01-01T19:37:02.937859Z",
     "iopub.status.busy": "2024-01-01T19:37:02.937141Z",
     "iopub.status.idle": "2024-01-01T19:37:02.950085Z",
     "shell.execute_reply": "2024-01-01T19:37:02.948455Z",
     "shell.execute_reply.started": "2024-01-01T19:37:02.937790Z"
    }
   },
   "outputs": [
    {
     "name": "stdout",
     "output_type": "stream",
     "text": [
      "21436\n"
     ]
    }
   ],
   "source": [
    "# 1- Quantas casas estão disponíveis para a compra?\n",
    "print(len(data['id'].unique()))"
   ]
  },
  {
   "cell_type": "code",
   "execution_count": 5,
   "id": "60adb65e-6b05-4f83-b97f-c191d612d5ba",
   "metadata": {
    "execution": {
     "iopub.execute_input": "2024-01-01T19:37:43.658685Z",
     "iopub.status.busy": "2024-01-01T19:37:43.657979Z",
     "iopub.status.idle": "2024-01-01T19:37:43.669233Z",
     "shell.execute_reply": "2024-01-01T19:37:43.666576Z",
     "shell.execute_reply.started": "2024-01-01T19:37:43.658612Z"
    }
   },
   "outputs": [
    {
     "name": "stdout",
     "output_type": "stream",
     "text": [
      "21\n"
     ]
    }
   ],
   "source": [
    "# 2- Quantos atributos as casas possuem?\n",
    "print(len(data.columns))"
   ]
  },
  {
   "cell_type": "code",
   "execution_count": 7,
   "id": "517b53a0-90d7-48d0-9712-4ed0c8bd4be5",
   "metadata": {
    "execution": {
     "iopub.execute_input": "2024-01-01T19:38:23.187896Z",
     "iopub.status.busy": "2024-01-01T19:38:23.187168Z",
     "iopub.status.idle": "2024-01-01T19:38:23.199892Z",
     "shell.execute_reply": "2024-01-01T19:38:23.197296Z",
     "shell.execute_reply.started": "2024-01-01T19:38:23.187822Z"
    }
   },
   "outputs": [
    {
     "name": "stdout",
     "output_type": "stream",
     "text": [
      "Index(['id', 'date', 'price', 'bedrooms', 'bathrooms', 'sqft_living',\n",
      "       'sqft_lot', 'floors', 'waterfront', 'view', 'condition', 'grade',\n",
      "       'sqft_above', 'sqft_basement', 'yr_built', 'yr_renovated', 'zipcode',\n",
      "       'lat', 'long', 'sqft_living15', 'sqft_lot15'],\n",
      "      dtype='object')\n"
     ]
    }
   ],
   "source": [
    "# 3- Quais são os atributos das casas?\n",
    "print(data.columns)"
   ]
  },
  {
   "cell_type": "code",
   "execution_count": 57,
   "id": "08715a4a-f40f-4274-92ce-75ef5e953b18",
   "metadata": {
    "execution": {
     "iopub.execute_input": "2024-01-01T20:54:51.854307Z",
     "iopub.status.busy": "2024-01-01T20:54:51.853606Z",
     "iopub.status.idle": "2024-01-01T20:54:51.878314Z",
     "shell.execute_reply": "2024-01-01T20:54:51.876099Z",
     "shell.execute_reply.started": "2024-01-01T20:54:51.854244Z"
    }
   },
   "outputs": [
    {
     "data": {
      "text/plain": [
       "6762700020"
      ]
     },
     "execution_count": 57,
     "metadata": {},
     "output_type": "execute_result"
    }
   ],
   "source": [
    "# 4- Qual a casa mais cara?\n",
    "data [['id', 'price']].sort_values ('price', ascending= False).reset_index(drop=True).loc[0, 'id']"
   ]
  },
  {
   "cell_type": "code",
   "execution_count": 55,
   "id": "66665493-86c2-4021-be77-2d48305410fb",
   "metadata": {
    "execution": {
     "iopub.execute_input": "2024-01-01T20:54:00.229157Z",
     "iopub.status.busy": "2024-01-01T20:54:00.228409Z",
     "iopub.status.idle": "2024-01-01T20:54:00.251096Z",
     "shell.execute_reply": "2024-01-01T20:54:00.248484Z",
     "shell.execute_reply.started": "2024-01-01T20:54:00.229087Z"
    }
   },
   "outputs": [
    {
     "data": {
      "text/plain": [
       "2402100895"
      ]
     },
     "execution_count": 55,
     "metadata": {},
     "output_type": "execute_result"
    }
   ],
   "source": [
    "# 5- Qual a casa com o maior número de quartos?\n",
    "data[['id', \"bedrooms\"]].sort_values('bedrooms', ascending= False).reset_index(drop = True).loc[0, 'id']"
   ]
  },
  {
   "cell_type": "code",
   "execution_count": 16,
   "id": "fbefb6e0-4e0f-48dc-a567-c94fa215a9d4",
   "metadata": {
    "execution": {
     "iopub.execute_input": "2024-01-01T19:41:59.543687Z",
     "iopub.status.busy": "2024-01-01T19:41:59.542897Z",
     "iopub.status.idle": "2024-01-01T19:41:59.567645Z",
     "shell.execute_reply": "2024-01-01T19:41:59.565362Z",
     "shell.execute_reply.started": "2024-01-01T19:41:59.543613Z"
    }
   },
   "outputs": [
    {
     "data": {
      "text/plain": [
       "72854"
      ]
     },
     "execution_count": 16,
     "metadata": {},
     "output_type": "execute_result"
    }
   ],
   "source": [
    "# 6- Qual a soma total de quartos do conjunto de dados?\n",
    "data['bedrooms'].sum()"
   ]
  },
  {
   "cell_type": "code",
   "execution_count": 19,
   "id": "ec7f9ef3-8f6d-4f4b-940a-0e9aff764263",
   "metadata": {
    "execution": {
     "iopub.execute_input": "2024-01-01T19:43:40.262675Z",
     "iopub.status.busy": "2024-01-01T19:43:40.262071Z",
     "iopub.status.idle": "2024-01-01T19:43:40.274470Z",
     "shell.execute_reply": "2024-01-01T19:43:40.273190Z",
     "shell.execute_reply.started": "2024-01-01T19:43:40.262620Z"
    }
   },
   "outputs": [
    {
     "name": "stdout",
     "output_type": "stream",
     "text": [
      "1930\n"
     ]
    }
   ],
   "source": [
    "# 7- Quantas casas possuem dois banheiros?\n",
    "print(len(data.loc[data['bathrooms'] == 2, ['id','bathrooms']]))"
   ]
  },
  {
   "cell_type": "code",
   "execution_count": 22,
   "id": "240eb98b-ed28-4286-a4d0-7a6bcc9f7c0c",
   "metadata": {
    "execution": {
     "iopub.execute_input": "2024-01-01T19:44:32.023202Z",
     "iopub.status.busy": "2024-01-01T19:44:32.022438Z",
     "iopub.status.idle": "2024-01-01T19:44:32.033857Z",
     "shell.execute_reply": "2024-01-01T19:44:32.031776Z",
     "shell.execute_reply.started": "2024-01-01T19:44:32.023130Z"
    }
   },
   "outputs": [
    {
     "name": "stdout",
     "output_type": "stream",
     "text": [
      "540088.1417665294\n"
     ]
    }
   ],
   "source": [
    "# 8- Qual o preço médio de todas as casas no conjunto de dados\n",
    "print(data ['price'].mean())"
   ]
  },
  {
   "cell_type": "code",
   "execution_count": 23,
   "id": "cae5465c-f7e5-41b2-b350-3b85612ae434",
   "metadata": {
    "execution": {
     "iopub.execute_input": "2024-01-01T20:32:13.418402Z",
     "iopub.status.busy": "2024-01-01T20:32:13.417717Z",
     "iopub.status.idle": "2024-01-01T20:32:13.429743Z",
     "shell.execute_reply": "2024-01-01T20:32:13.428216Z",
     "shell.execute_reply.started": "2024-01-01T20:32:13.418336Z"
    }
   },
   "outputs": [
    {
     "name": "stdout",
     "output_type": "stream",
     "text": [
      "457889.7186528497\n"
     ]
    }
   ],
   "source": [
    "# 9- Qual o preço médio das casas com 2 banheiros?\n",
    "print(data.loc[data['bathrooms']== 2, 'price'].mean())"
   ]
  },
  {
   "cell_type": "code",
   "execution_count": 25,
   "id": "a87b2f7f-5ac2-4c61-84d0-55bdf6534207",
   "metadata": {
    "execution": {
     "iopub.execute_input": "2024-01-01T20:32:43.973964Z",
     "iopub.status.busy": "2024-01-01T20:32:43.973355Z",
     "iopub.status.idle": "2024-01-01T20:32:43.985121Z",
     "shell.execute_reply": "2024-01-01T20:32:43.982728Z",
     "shell.execute_reply.started": "2024-01-01T20:32:43.973900Z"
    }
   },
   "outputs": [
    {
     "name": "stdout",
     "output_type": "stream",
     "text": [
      "82000.0\n"
     ]
    }
   ],
   "source": [
    "# 10- Qual o preço minimo entre casas com 3 quartos?\n",
    "print(data.loc[data['bedrooms'] == 3,'price'].min())"
   ]
  },
  {
   "cell_type": "code",
   "execution_count": 26,
   "id": "3f4b703c-4ad4-4083-9e13-5fd59566d4f3",
   "metadata": {
    "execution": {
     "iopub.execute_input": "2024-01-01T20:33:34.747917Z",
     "iopub.status.busy": "2024-01-01T20:33:34.746319Z",
     "iopub.status.idle": "2024-01-01T20:33:34.766014Z",
     "shell.execute_reply": "2024-01-01T20:33:34.763359Z",
     "shell.execute_reply.started": "2024-01-01T20:33:34.747830Z"
    }
   },
   "outputs": [
    {
     "name": "stdout",
     "output_type": "stream",
     "text": [
      "2258\n"
     ]
    }
   ],
   "source": [
    "# 11- Quantas casas possuem mais de 300 metros quadrados na sala de estar?\n",
    "data ['m2'] = data ['sqft_living'] * 0.093\n",
    "print(len(data.loc[data ['m2'] > 300 ] ))"
   ]
  },
  {
   "cell_type": "code",
   "execution_count": 28,
   "id": "426f31b6-9b62-42c7-b807-6b405fea06f6",
   "metadata": {
    "execution": {
     "iopub.execute_input": "2024-01-01T20:34:41.988088Z",
     "iopub.status.busy": "2024-01-01T20:34:41.986182Z",
     "iopub.status.idle": "2024-01-01T20:34:42.001674Z",
     "shell.execute_reply": "2024-01-01T20:34:41.999775Z",
     "shell.execute_reply.started": "2024-01-01T20:34:41.987967Z"
    }
   },
   "outputs": [
    {
     "name": "stdout",
     "output_type": "stream",
     "text": [
      "782\n"
     ]
    }
   ],
   "source": [
    "# 12- Quantas casas tem mais de 2 andares?\n",
    "print(len(data.loc[data['floors'] > 2 ] ))"
   ]
  },
  {
   "cell_type": "code",
   "execution_count": 29,
   "id": "092ff202-e514-45c9-a3f9-fc3494487505",
   "metadata": {
    "execution": {
     "iopub.execute_input": "2024-01-01T20:35:09.364831Z",
     "iopub.status.busy": "2024-01-01T20:35:09.364052Z",
     "iopub.status.idle": "2024-01-01T20:35:09.378629Z",
     "shell.execute_reply": "2024-01-01T20:35:09.376396Z",
     "shell.execute_reply.started": "2024-01-01T20:35:09.364731Z"
    }
   },
   "outputs": [
    {
     "name": "stdout",
     "output_type": "stream",
     "text": [
      "163\n"
     ]
    }
   ],
   "source": [
    "# 13- Quantas casas tem vista para o mar?\n",
    "print(len(data.loc[data['waterfront'] == 1 ] ))"
   ]
  },
  {
   "cell_type": "code",
   "execution_count": 30,
   "id": "0204ebcd-3aa8-4efe-af94-785346feea85",
   "metadata": {
    "execution": {
     "iopub.execute_input": "2024-01-01T20:35:38.524997Z",
     "iopub.status.busy": "2024-01-01T20:35:38.523878Z",
     "iopub.status.idle": "2024-01-01T20:35:38.539626Z",
     "shell.execute_reply": "2024-01-01T20:35:38.537972Z",
     "shell.execute_reply.started": "2024-01-01T20:35:38.524887Z"
    }
   },
   "outputs": [
    {
     "name": "stdout",
     "output_type": "stream",
     "text": [
      "64\n"
     ]
    }
   ],
   "source": [
    "# 14- Das casas com vista para o mar, quantas tem 3 quartos?\n",
    "print(len(data.loc[(data['waterfront'] == 1) & (data['bedrooms'] == 3),'id']))"
   ]
  },
  {
   "cell_type": "code",
   "execution_count": 47,
   "id": "b80780a9-687c-4b3f-b099-734e7f601e9c",
   "metadata": {
    "execution": {
     "iopub.execute_input": "2024-01-01T20:41:23.074579Z",
     "iopub.status.busy": "2024-01-01T20:41:23.074162Z",
     "iopub.status.idle": "2024-01-01T20:41:23.086502Z",
     "shell.execute_reply": "2024-01-01T20:41:23.084550Z",
     "shell.execute_reply.started": "2024-01-01T20:41:23.074545Z"
    }
   },
   "outputs": [
    {
     "name": "stdout",
     "output_type": "stream",
     "text": [
      "2201\n"
     ]
    }
   ],
   "source": [
    "# 15- Das casas com mais de 300 metros quadrados de sala de estar, quantas tem mais de 2 banheiros?\n",
    "print(len(data.loc[(data['m2'] > 300) & (data['bathrooms'] > 2 ),'id']))"
   ]
  }
 ],
 "metadata": {
  "kernelspec": {
   "display_name": "Python 3 (ipykernel)",
   "language": "python",
   "name": "python3"
  },
  "language_info": {
   "codemirror_mode": {
    "name": "ipython",
    "version": 3
   },
   "file_extension": ".py",
   "mimetype": "text/x-python",
   "name": "python",
   "nbconvert_exporter": "python",
   "pygments_lexer": "ipython3",
   "version": "3.9.18"
  }
 },
 "nbformat": 4,
 "nbformat_minor": 5
}
